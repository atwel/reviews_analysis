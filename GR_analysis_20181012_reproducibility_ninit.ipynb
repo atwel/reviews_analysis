{
 "cells": [
  {
   "cell_type": "code",
   "execution_count": 6,
   "metadata": {},
   "outputs": [
    {
     "name": "stdout",
     "output_type": "stream",
     "text": [
      "The autoreload extension is already loaded. To reload it, use:\n",
      "  %reload_ext autoreload\n"
     ]
    }
   ],
   "source": [
    "%load_ext autoreload\n",
    "%autoreload 2\n",
    "\n",
    "import os, pickle, random, sbmtm\n",
    "# import seaborn as sns; sns.set(style=\"white\", color_codes=True) # is not installed on system, just folder in this directory\n",
    "import numpy as np\n",
    "import pandas as pd\n",
    "from sbmtm import sbmtm\n",
    "import matplotlib.pyplot as plt\n",
    "%matplotlib inline\n",
    "\n",
    "from helper import nmi_score"
   ]
  },
  {
   "cell_type": "code",
   "execution_count": null,
   "metadata": {
    "collapsed": true
   },
   "outputs": [],
   "source": []
  },
  {
   "cell_type": "markdown",
   "metadata": {},
   "source": [
    "# Load a set of reviews for a book"
   ]
  },
  {
   "cell_type": "code",
   "execution_count": 7,
   "metadata": {},
   "outputs": [
    {
     "name": "stdout",
     "output_type": "stream",
     "text": [
      "cleaned_posts/10149142-the-family-fang.json\n"
     ]
    }
   ],
   "source": [
    "path_read = 'cleaned_posts/'\n",
    "fname_read = '10149142-the-family-fang.json'\n",
    "filename = os.path.join(path_read,fname_read)\n",
    "print(filename)"
   ]
  },
  {
   "cell_type": "code",
   "execution_count": 8,
   "metadata": {
    "collapsed": true
   },
   "outputs": [],
   "source": [
    "with open(filename,\"r\",encoding=\"utf8\") as f:\n",
    "    df = pd.DataFrame(pd.read_json(f)).T"
   ]
  },
  {
   "cell_type": "code",
   "execution_count": 9,
   "metadata": {
    "collapsed": true
   },
   "outputs": [],
   "source": [
    "m_min = 100 ## minimum text length\n",
    "df = df[df['word_count']>=m_min]\n",
    "\n",
    "list_texts = list(df['text'])\n",
    "list_titles = list(df.index)\n",
    "list_dt = list(df['delta'])\n",
    "\n",
    "list_m = [len(text) for text in list_texts]\n",
    "D = len(list_texts)"
   ]
  },
  {
   "cell_type": "markdown",
   "metadata": {
    "collapsed": true
   },
   "source": [
    "# Make the graph"
   ]
  },
  {
   "cell_type": "code",
   "execution_count": 10,
   "metadata": {},
   "outputs": [
    {
     "data": {
      "text/plain": [
       "(3568, 234)"
      ]
     },
     "execution_count": 10,
     "metadata": {},
     "output_type": "execute_result"
    }
   ],
   "source": [
    "## create the model and make the graph.\n",
    "model = sbmtm()\n",
    "model.make_graph(list_texts,documents = list_titles)\n",
    "g = model.g## this is the graph\n",
    "\n",
    "V = model.get_V()\n",
    "D = model.get_D()\n",
    "V,D"
   ]
  },
  {
   "cell_type": "markdown",
   "metadata": {},
   "source": [
    "# Run the inference a few times | n_init = 1"
   ]
  },
  {
   "cell_type": "code",
   "execution_count": 12,
   "metadata": {},
   "outputs": [],
   "source": [
    "## run the inference\n",
    "## what are the statistics to be extracted?\n",
    "\n",
    "list_mdl = []\n",
    "list_c_td = []\n",
    "list_c_tw = []\n",
    "list_Bwd = []\n",
    "## mdl\n",
    "\n",
    "\n",
    "n_rep = 5 ## number of different runs\n",
    "n_init = 1 ## number of fits in each run; use the solution with lowest mdl\n",
    "\n",
    "## we always look at the lowest level in the hierarchy\n",
    "for i in range(n_rep):\n",
    "\n",
    "    model.fit(n_init=n_init)\n",
    "    mdl = model.mdl\n",
    "    \n",
    "    L = model.L\n",
    "    ## group memberhsip on uppermost level\n",
    "    p_td_d, p_tw_w = model.group_membership(l=0)\n",
    "    c_td = np.argmax(p_td_d,axis=0)\n",
    "    c_tw = np.argmax(p_tw_w,axis=0)\n",
    "    \n",
    "    list_mdl += [mdl]\n",
    "    list_c_td += [c_td]\n",
    "    list_c_tw += [c_tw]\n",
    "    \n",
    "    B_d = len(set(c_td))\n",
    "    B_w = len(set(c_tw))\n",
    "#     B = B_d + B_w\n",
    "    list_Bwd += [(B_d,B_w)]\n",
    "    "
   ]
  },
  {
   "cell_type": "markdown",
   "metadata": {},
   "source": [
    "### Evaluate different solutions"
   ]
  },
  {
   "cell_type": "code",
   "execution_count": 13,
   "metadata": {
    "collapsed": true
   },
   "outputs": [],
   "source": [
    "## sort according to mdl\n",
    "indsort = np.argsort(list_mdl)\n",
    "list_mdl = np.array(list_mdl)[indsort]\n",
    "list_c_td = np.array(list_c_td)[indsort]\n",
    "list_c_tw = np.array(list_c_tw)[indsort]\n",
    "list_Bwd = np.array(list_Bwd)[indsort]"
   ]
  },
  {
   "cell_type": "code",
   "execution_count": 14,
   "metadata": {},
   "outputs": [
    {
     "data": {
      "text/plain": [
       "Text(0,0.5,'mdl')"
      ]
     },
     "execution_count": 14,
     "metadata": {},
     "output_type": "execute_result"
    },
    {
     "data": {
      "image/png": "[encoded data removed]",
      "text/plain": [
       "<Figure size 432x288 with 1 Axes>"
      ]
     },
     "metadata": {},
     "output_type": "display_data"
    }
   ],
   "source": [
    "## value of the mdl across different runs\n",
    "plt.plot(np.arange(n_rep)+1,list_mdl,marker='o')\n",
    "plt.xlabel('run no.')\n",
    "plt.ylabel('mdl')"
   ]
  },
  {
   "cell_type": "code",
   "execution_count": 15,
   "metadata": {},
   "outputs": [
    {
     "data": {
      "text/plain": [
       "<matplotlib.legend.Legend at 0x7f48aed815c0>"
      ]
     },
     "execution_count": 15,
     "metadata": {},
     "output_type": "execute_result"
    },
    {
     "data": {
      "image/png": "[encoded data removed]",
      "text/plain": [
       "<Figure size 432x288 with 1 Axes>"
      ]
     },
     "metadata": {},
     "output_type": "display_data"
    }
   ],
   "source": [
    "## number of groups\n",
    "plt.plot(np.arange(n_rep)+1,[h[0] for h in list_Bwd],label='doc-groups',marker='o')\n",
    "plt.plot(np.arange(n_rep)+1,[h[1] for h in list_Bwd],label='word-groups',marker='o')\n",
    "\n",
    "plt.xlabel('run no.')\n",
    "plt.ylabel('no. of groups')\n",
    "plt.legend()"
   ]
  },
  {
   "cell_type": "code",
   "execution_count": 16,
   "metadata": {},
   "outputs": [
    {
     "name": "stderr",
     "output_type": "stream",
     "text": [
      "/DRIVE/REPOS/goodreads/reviews_analysis/helper.py:41: RuntimeWarning: invalid value encountered in double_scalars\n",
      "  NMI = 2.0*MI/(H1+H2)\n"
     ]
    }
   ],
   "source": [
    "## calculate the nmi between group membership of nodes using nmi\n",
    "## we do it separately for doc-nodes and word-nodes\n",
    "arr_nmi_d = np.nan*np.zeros((n_rep,n_rep))\n",
    "arr_nmi_w = np.nan*np.zeros((n_rep,n_rep))\n",
    "\n",
    "for i in range(n_rep):\n",
    "    c_td_i = list_c_td[i]\n",
    "    c_tw_i = list_c_tw[i]\n",
    "    for j in range(n_rep):\n",
    "        c_td_j = list_c_td[j]\n",
    "        c_tw_j = list_c_tw[j]\n",
    "        if i<j:\n",
    "            nmi = nmi_score(c_td_i,c_td_j)\n",
    "            arr_nmi_d[i,j] = nmi\n",
    "            nmi = nmi_score(c_tw_i,c_tw_j)\n",
    "            arr_nmi_w[i,j] = nmi\n",
    "                \n",
    "                "
   ]
  },
  {
   "cell_type": "code",
   "execution_count": 17,
   "metadata": {},
   "outputs": [
    {
     "data": {
      "text/plain": [
       "Text(0.5,1,'NMI words')"
      ]
     },
     "execution_count": 17,
     "metadata": {},
     "output_type": "execute_result"
    },
    {
     "data": {
      "image/png": "[encoded data removed]",
      "text/plain": [
       "<Figure size 1008x288 with 4 Axes>"
      ]
     },
     "metadata": {},
     "output_type": "display_data"
    }
   ],
   "source": [
    "plt.figure(figsize=(14,4))\n",
    "plt.subplot(121)\n",
    "plt.imshow(arr_nmi_d,origin='lower',vmin=0,vmax=1)\n",
    "plt.colorbar()\n",
    "plt.title('NMI documents')\n",
    "\n",
    "plt.subplot(122)\n",
    "plt.imshow(arr_nmi_w,origin='lower',vmin=0,vmax=1)\n",
    "plt.colorbar()\n",
    "plt.title('NMI words')\n"
   ]
  },
  {
   "cell_type": "code",
   "execution_count": 18,
   "metadata": {},
   "outputs": [
    {
     "name": "stdout",
     "output_type": "stream",
     "text": [
      "1.0559257923494068e-16 1.0\n",
      "0.0 1.0\n"
     ]
    }
   ],
   "source": [
    "print(np.nanmin(arr_nmi_d), np.nanmax(arr_nmi_d))\n",
    "print(np.nanmin(arr_nmi_w), np.nanmax(arr_nmi_w))"
   ]
  },
  {
   "cell_type": "markdown",
   "metadata": {
    "collapsed": true
   },
   "source": [
    "It seems that the trivial solution with only 1 block for words and documents each is a local minimum in the Optimization landscape.\n",
    "\n",
    "Possible solutions:\n",
    "\n",
    "- run the algorithm several times and choose the minimum mdl from all runs"
   ]
  },
  {
   "cell_type": "code",
   "execution_count": null,
   "metadata": {
    "collapsed": true
   },
   "outputs": [],
   "source": []
  },
  {
   "cell_type": "code",
   "execution_count": null,
   "metadata": {
    "collapsed": true
   },
   "outputs": [],
   "source": []
  },
  {
   "cell_type": "markdown",
   "metadata": {},
   "source": [
    "# Run the inference a few times | n_init = 10"
   ]
  },
  {
   "cell_type": "code",
   "execution_count": 19,
   "metadata": {
    "collapsed": true
   },
   "outputs": [],
   "source": [
    "## run the inference\n",
    "## what are the statistics to be extracted?\n",
    "\n",
    "list_mdl = []\n",
    "list_c_td = []\n",
    "list_c_tw = []\n",
    "list_Bwd = []\n",
    "## mdl\n",
    "\n",
    "\n",
    "n_rep = 5 ## number of different runs\n",
    "n_init = 10 ## number of fits in each run; use the solution with lowest mdl\n",
    "\n",
    "## we always look at the lowest level in the hierarchy\n",
    "for i in range(n_rep):\n",
    "\n",
    "    model.fit(n_init=n_init)\n",
    "    mdl = model.mdl\n",
    "    \n",
    "    L = model.L\n",
    "    ## group memberhsip on uppermost level\n",
    "    p_td_d, p_tw_w = model.group_membership(l=0)\n",
    "    c_td = np.argmax(p_td_d,axis=0)\n",
    "    c_tw = np.argmax(p_tw_w,axis=0)\n",
    "    \n",
    "    list_mdl += [mdl]\n",
    "    list_c_td += [c_td]\n",
    "    list_c_tw += [c_tw]\n",
    "    \n",
    "    B_d = len(set(c_td))\n",
    "    B_w = len(set(c_tw))\n",
    "#     B = B_d + B_w\n",
    "    list_Bwd += [(B_d,B_w)]\n",
    "    "
   ]
  },
  {
   "cell_type": "markdown",
   "metadata": {},
   "source": [
    "### Evaluate different solutions"
   ]
  },
  {
   "cell_type": "code",
   "execution_count": 20,
   "metadata": {
    "collapsed": true
   },
   "outputs": [],
   "source": [
    "## sort according to mdl\n",
    "indsort = np.argsort(list_mdl)\n",
    "list_mdl = np.array(list_mdl)[indsort]\n",
    "list_c_td = np.array(list_c_td)[indsort]\n",
    "list_c_tw = np.array(list_c_tw)[indsort]\n",
    "list_Bwd = np.array(list_Bwd)[indsort]"
   ]
  },
  {
   "cell_type": "code",
   "execution_count": 21,
   "metadata": {},
   "outputs": [
    {
     "data": {
      "text/plain": [
       "Text(0,0.5,'mdl')"
      ]
     },
     "execution_count": 21,
     "metadata": {},
     "output_type": "execute_result"
    },
    {
     "data": {
      "image/png": "[encoded data removed]",
      "text/plain": [
       "<Figure size 432x288 with 1 Axes>"
      ]
     },
     "metadata": {},
     "output_type": "display_data"
    }
   ],
   "source": [
    "## value of the mdl across different runs\n",
    "plt.plot(np.arange(n_rep)+1,list_mdl,marker='o')\n",
    "plt.xlabel('run no.')\n",
    "plt.ylabel('mdl')"
   ]
  },
  {
   "cell_type": "code",
   "execution_count": 22,
   "metadata": {},
   "outputs": [
    {
     "data": {
      "text/plain": [
       "<matplotlib.legend.Legend at 0x7f48ae01bd30>"
      ]
     },
     "execution_count": 22,
     "metadata": {},
     "output_type": "execute_result"
    },
    {
     "data": {
      "image/png": "[encoded data removed]",
      "text/plain": [
       "<Figure size 432x288 with 1 Axes>"
      ]
     },
     "metadata": {},
     "output_type": "display_data"
    }
   ],
   "source": [
    "## number of groups\n",
    "plt.plot(np.arange(n_rep)+1,[h[0] for h in list_Bwd],label='doc-groups',marker='o')\n",
    "plt.plot(np.arange(n_rep)+1,[h[1] for h in list_Bwd],label='word-groups',marker='o')\n",
    "\n",
    "plt.xlabel('run no.')\n",
    "plt.ylabel('no. of groups')\n",
    "plt.legend()"
   ]
  },
  {
   "cell_type": "code",
   "execution_count": 23,
   "metadata": {
    "collapsed": true
   },
   "outputs": [],
   "source": [
    "## calculate the nmi between group membership of nodes using nmi\n",
    "## we do it separately for doc-nodes and word-nodes\n",
    "arr_nmi_d = np.nan*np.zeros((n_rep,n_rep))\n",
    "arr_nmi_w = np.nan*np.zeros((n_rep,n_rep))\n",
    "\n",
    "for i in range(n_rep):\n",
    "    c_td_i = list_c_td[i]\n",
    "    c_tw_i = list_c_tw[i]\n",
    "    for j in range(n_rep):\n",
    "        c_td_j = list_c_td[j]\n",
    "        c_tw_j = list_c_tw[j]\n",
    "        if i<j:\n",
    "            nmi = nmi_score(c_td_i,c_td_j)\n",
    "            arr_nmi_d[i,j] = nmi\n",
    "            nmi = nmi_score(c_tw_i,c_tw_j)\n",
    "            arr_nmi_w[i,j] = nmi\n",
    "                \n",
    "                "
   ]
  },
  {
   "cell_type": "code",
   "execution_count": 24,
   "metadata": {},
   "outputs": [
    {
     "data": {
      "text/plain": [
       "Text(0.5,1,'NMI words')"
      ]
     },
     "execution_count": 24,
     "metadata": {},
     "output_type": "execute_result"
    },
    {
     "data": {
      "image/png": "[encoded data removed]",
      "text/plain": [
       "<Figure size 1008x288 with 4 Axes>"
      ]
     },
     "metadata": {},
     "output_type": "display_data"
    }
   ],
   "source": [
    "plt.figure(figsize=(14,4))\n",
    "plt.subplot(121)\n",
    "plt.imshow(arr_nmi_d,origin='lower',vmin=0,vmax=1)\n",
    "plt.colorbar()\n",
    "plt.title('NMI documents')\n",
    "\n",
    "plt.subplot(122)\n",
    "plt.imshow(arr_nmi_w,origin='lower',vmin=0,vmax=1)\n",
    "plt.colorbar()\n",
    "plt.title('NMI words')\n"
   ]
  },
  {
   "cell_type": "code",
   "execution_count": 25,
   "metadata": {},
   "outputs": [
    {
     "name": "stdout",
     "output_type": "stream",
     "text": [
      "0.0 0.7344410404162595\n",
      "0.0 0.4219325378097684\n"
     ]
    }
   ],
   "source": [
    "print(np.nanmin(arr_nmi_d), np.nanmax(arr_nmi_d))\n",
    "print(np.nanmin(arr_nmi_w), np.nanmax(arr_nmi_w))"
   ]
  },
  {
   "cell_type": "code",
   "execution_count": null,
   "metadata": {
    "collapsed": true
   },
   "outputs": [],
   "source": []
  },
  {
   "cell_type": "code",
   "execution_count": null,
   "metadata": {
    "collapsed": true
   },
   "outputs": [],
   "source": []
  }
 ],
 "metadata": {
  "kernelspec": {
   "display_name": "gt-test",
   "language": "python",
   "name": "gt-test"
  },
  "language_info": {
   "codemirror_mode": {
    "name": "ipython",
    "version": 3
   },
   "file_extension": ".py",
   "mimetype": "text/x-python",
   "name": "python",
   "nbconvert_exporter": "python",
   "pygments_lexer": "ipython3",
   "version": "3.6.5"
  }
 },
 "nbformat": 4,
 "nbformat_minor": 2
}
