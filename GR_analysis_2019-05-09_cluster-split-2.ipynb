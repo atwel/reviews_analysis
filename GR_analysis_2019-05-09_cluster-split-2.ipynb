{
 "cells": [
  {
   "cell_type": "code",
   "execution_count": 23,
   "metadata": {},
   "outputs": [
    {
     "name": "stdout",
     "output_type": "stream",
     "text": [
      "The autoreload extension is already loaded. To reload it, use:\n",
      "  %reload_ext autoreload\n"
     ]
    }
   ],
   "source": [
    "%load_ext autoreload\n",
    "%autoreload 2\n",
    "\n",
    "import os, pickle, random, sbmtm\n",
    "# import seaborn as sns; sns.set(style=\"white\", color_codes=True) # is not installed on system, just folder in this directory\n",
    "import numpy as np\n",
    "import pandas as pd\n",
    "from sbmtm import sbmtm\n",
    "import matplotlib.pyplot as plt\n",
    "from collections import Counter\n",
    "%matplotlib inline"
   ]
  },
  {
   "cell_type": "markdown",
   "metadata": {},
   "source": [
    "## Simple approach to detect time-dependence\n",
    "\n",
    "- simply look at fraction of articles in each doc-cluster (these are groups after all)\n",
    "- now separate the data into 2 parts (or more) according to timestamp.\n",
    "- plot the fraction/cluster; or even entropy for each segment\n",
    "- COMPARE with null model where order is randomized\n",
    "--> this allwos us to detect whether there is **any** non-stationarity in the timeseries of posts.\n",
    "\n",
    "- I played with a few datasets. If there is some time-dependence above the null model, it is very weak. This would suggest that the order of the articles (or their 'topics') are not distinguishable from random"
   ]
  },
  {
   "cell_type": "code",
   "execution_count": null,
   "metadata": {},
   "outputs": [],
   "source": []
  },
  {
   "cell_type": "code",
   "execution_count": 2,
   "metadata": {},
   "outputs": [
    {
     "name": "stdout",
     "output_type": "stream",
     "text": [
      "cleaned_posts/TRAINING-10149142-the-family-fang.json\n"
     ]
    }
   ],
   "source": [
    "path_read = 'cleaned_posts/'\n",
    "\n",
    "fname_read = 'TRAINING-10149142-the-family-fang.json'\n",
    "# fname_read = 'TRAINING-16126596-the-people-in-the-trees.json'\n",
    "# fname_read = 'TRAINING-18652002-the-bees.json'\n",
    "# fname_read = 'TRAINING-20575425-wolf-in-white-van.json'\n",
    "filename = os.path.join(path_read,fname_read)\n",
    "\n",
    "with open(filename,\"r\",encoding=\"utf8\") as f:\n",
    "    df = pd.DataFrame(pd.read_json(f))\n",
    "    \n",
    "## order according to delta\n",
    "df = df.sort_values(by='delta')\n"
   ]
  },
  {
   "cell_type": "code",
   "execution_count": null,
   "metadata": {},
   "outputs": [],
   "source": []
  },
  {
   "cell_type": "code",
   "execution_count": 4,
   "metadata": {},
   "outputs": [
    {
     "data": {
      "text/plain": [
       "226"
      ]
     },
     "execution_count": 4,
     "metadata": {},
     "output_type": "execute_result"
    }
   ],
   "source": [
    "m_min = 100 ## minimum text length\n",
    "df = df[df['word_count']>=m_min]\n",
    "\n",
    "list_texts = list(df['doc'])\n",
    "list_texts = [ h for h in  df['doc']]\n",
    "\n",
    "list_titles = list(df.index)\n",
    "list_delta = list(df['delta'])\n",
    "len(list_texts)\n",
    "D = len(list_texts)\n",
    "D"
   ]
  },
  {
   "cell_type": "code",
   "execution_count": 5,
   "metadata": {},
   "outputs": [
    {
     "name": "stdout",
     "output_type": "stream",
     "text": [
      "Reached 0th node\n"
     ]
    }
   ],
   "source": [
    "## fit the model\n",
    "model = sbmtm()\n",
    "model.make_graph(list_texts,documents = list_titles)\n",
    "model.fit(B_min=3)"
   ]
  },
  {
   "cell_type": "code",
   "execution_count": null,
   "metadata": {},
   "outputs": [],
   "source": []
  },
  {
   "cell_type": "code",
   "execution_count": null,
   "metadata": {},
   "outputs": [],
   "source": []
  },
  {
   "cell_type": "code",
   "execution_count": 6,
   "metadata": {},
   "outputs": [],
   "source": [
    "chosen_level=1"
   ]
  },
  {
   "cell_type": "code",
   "execution_count": null,
   "metadata": {
    "scrolled": true
   },
   "outputs": [],
   "source": []
  },
  {
   "cell_type": "code",
   "execution_count": 7,
   "metadata": {
    "scrolled": true
   },
   "outputs": [],
   "source": [
    "## group membership of doc-, and word-nodes\n",
    "p_td_d,p_tw_w = model.group_membership(l=chosen_level)\n",
    "\n",
    "D = model.get_D() ## number of documents\n",
    "B_d = len(p_td_d[:,0]) ## number of doc-groups\n",
    "B_w = len(p_tw_w[:,0]) ## number of word-groups\n",
    "\n",
    "list_b_d = np.argmax(p_td_d,axis=0)\n"
   ]
  },
  {
   "cell_type": "code",
   "execution_count": 8,
   "metadata": {},
   "outputs": [
    {
     "data": {
      "text/plain": [
       "<matplotlib.image.AxesImage at 0x7f741d59c3c8>"
      ]
     },
     "execution_count": 8,
     "metadata": {},
     "output_type": "execute_result"
    },
    {
     "data": {
      "image/png": "[encoded data removed]",
      "text/plain": [
       "<Figure size 432x288 with 1 Axes>"
      ]
     },
     "metadata": {
      "needs_background": "light"
     },
     "output_type": "display_data"
    }
   ],
   "source": [
    "plt.imshow(p_td_d,aspect='auto')"
   ]
  },
  {
   "cell_type": "code",
   "execution_count": 9,
   "metadata": {},
   "outputs": [],
   "source": []
  },
  {
   "cell_type": "code",
   "execution_count": 19,
   "metadata": {},
   "outputs": [],
   "source": [
    "N_s = 2 ## number of splits of the datasets (acording to time-stamp\n",
    "n_rep = 100 ## number of randomizations when shuffling the order of the articles\n",
    "\n",
    "p_b_s = np.zeros(( N_s,B_d ))\n",
    "\n",
    "x = np.array_split(list_b_d,N_s)\n",
    "for i_s in range(N_s):\n",
    "    x_tmp  = x[i_s]\n",
    "    c = Counter(x_tmp)\n",
    "    for b,n_b in c.items():\n",
    "        p_b_s[i_s,b] = n_b/len(x_tmp)\n",
    "        \n",
    "p_b_s_random = np.zeros((n_rep, N_s,B_d ))\n",
    "\n",
    "list_b_d_random = np.copy(list_b_d)\n",
    "for i_n_rep in range(n_rep):\n",
    "    np.random.shuffle(list_b_d_random)\n",
    "    x = np.array_split(list_b_d_random,N_s)\n",
    "    for i_s in range(N_s):\n",
    "        x_tmp  = x[i_s]\n",
    "        c = Counter(x_tmp)\n",
    "        for b,n_b in c.items():\n",
    "            p_b_s_random[i_n_rep,i_s,b] = n_b/len(x_tmp)"
   ]
  },
  {
   "cell_type": "code",
   "execution_count": 24,
   "metadata": {},
   "outputs": [
    {
     "data": {
      "text/plain": [
       "Text(0.5,0,'Time-segment')"
      ]
     },
     "execution_count": 24,
     "metadata": {},
     "output_type": "execute_result"
    },
    {
     "data": {
      "image/png": "[encoded data removed]",
      "text/plain": [
       "<Figure size 432x288 with 1 Axes>"
      ]
     },
     "metadata": {
      "needs_background": "light"
     },
     "output_type": "display_data"
    }
   ],
   "source": [
    "## proportion of documents in each doc-cluster,\n",
    "## plotted as a function of 'time' over equal-sized segments of the data\n",
    "cm = plt.get_cmap('tab10')\n",
    "\n",
    "for i_b in range(B_d):\n",
    "    \n",
    "    c_ = cm(i_b)\n",
    "    x_ = np.arange(N_s)+1\n",
    "    y_ = p_b_s[:,i_b]\n",
    "    plt.plot(x_,y_,marker='o',c=c_)\n",
    "    \n",
    "    \n",
    "    x_ = np.arange(N_s)+1\n",
    "    z_= p_b_s_random[:,:,i_b]\n",
    "    y_ = np.mean(z_,axis=0)\n",
    "    yerr_ = np.std(z_,axis=0)\n",
    "    plt.plot(x_,y_,marker='x',ls=':',c=c_)\n",
    "    y1_ = y_-yerr_\n",
    "    y2_ = y_+yerr_\n",
    "    plt.fill_between(x_,y1_,y2_,alpha=0.5,color=c_)\n",
    "#     plt.errorbar()\n",
    "    \n",
    "plt.ylabel('Fraction of documents in doc-cluster')\n",
    "plt.xlabel('Time-segment')"
   ]
  },
  {
   "cell_type": "code",
   "execution_count": 21,
   "metadata": {},
   "outputs": [
    {
     "data": {
      "text/plain": [
       "Text(0.5,0,'Time-segment')"
      ]
     },
     "execution_count": 21,
     "metadata": {},
     "output_type": "execute_result"
    },
    {
     "data": {
      "image/png": "[encoded data removed]",
      "text/plain": [
       "<Figure size 432x288 with 1 Axes>"
      ]
     },
     "metadata": {
      "needs_background": "light"
     },
     "output_type": "display_data"
    }
   ],
   "source": [
    "## entropy over the cluster-size distribution over time\n",
    "c_ = cm(0)\n",
    "H = -np.nansum(p_b_s*np.log(p_b_s),axis=1)\n",
    "x_ = np.arange(N_s)+1\n",
    "y_ = H\n",
    "plt.plot(x_,y_,marker='o',c=c_)\n",
    "\n",
    "H_random = -np.nansum(p_b_s_random*np.log(p_b_s_random),axis=2)\n",
    "H_random_mu = np.mean(H_random,axis=0)\n",
    "H_random_std = np.std(H_random,axis=0)\n",
    "x_ = np.arange(N_s)+1\n",
    "y_ = H_random_mu\n",
    "yerr_ = H_random_std\n",
    "plt.plot(x_,y_,marker='x',ls=':',c=c_)\n",
    "y1_ = y_-yerr_\n",
    "y2_ = y_+yerr_\n",
    "plt.fill_between(x_,y1_,y2_,alpha=0.5,color=c_)\n",
    "plt.ylabel('Entropy over cluster distribution')\n",
    "plt.xlabel('Time-segment')"
   ]
  },
  {
   "cell_type": "code",
   "execution_count": null,
   "metadata": {},
   "outputs": [],
   "source": []
  },
  {
   "cell_type": "code",
   "execution_count": 18,
   "metadata": {},
   "outputs": [],
   "source": [
    "# model.topics(l=chosen_level)"
   ]
  },
  {
   "cell_type": "code",
   "execution_count": null,
   "metadata": {},
   "outputs": [],
   "source": []
  },
  {
   "cell_type": "code",
   "execution_count": null,
   "metadata": {},
   "outputs": [],
   "source": []
  }
 ],
 "metadata": {
  "kernelspec": {
   "display_name": "topsbm",
   "language": "python",
   "name": "topsbm"
  },
  "language_info": {
   "codemirror_mode": {
    "name": "ipython",
    "version": 3
   },
   "file_extension": ".py",
   "mimetype": "text/x-python",
   "name": "python",
   "nbconvert_exporter": "python",
   "pygments_lexer": "ipython3",
   "version": "3.6.6"
  }
 },
 "nbformat": 4,
 "nbformat_minor": 2
}
