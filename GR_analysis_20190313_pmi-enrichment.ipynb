{
 "cells": [
  {
   "cell_type": "code",
   "execution_count": 1,
   "metadata": {},
   "outputs": [],
   "source": [
    "%load_ext autoreload\n",
    "%autoreload 2\n",
    "\n",
    "import os, pickle, random, sbmtm\n",
    "# import seaborn as sns; sns.set(style=\"white\", color_codes=True) # is not installed on system, just folder in this directory\n",
    "import numpy as np\n",
    "import pandas as pd\n",
    "from sbmtm import sbmtm\n",
    "import matplotlib.pyplot as plt\n",
    "from matplotlib import cm\n",
    "\n",
    "\n",
    "%matplotlib inline"
   ]
  },
  {
   "cell_type": "code",
   "execution_count": null,
   "metadata": {
    "collapsed": true
   },
   "outputs": [],
   "source": []
  },
  {
   "cell_type": "code",
   "execution_count": 2,
   "metadata": {},
   "outputs": [
    {
     "name": "stdout",
     "output_type": "stream",
     "text": [
      "cleaned_posts/10149142-the-family-fang.json\n"
     ]
    }
   ],
   "source": [
    "path_read = 'cleaned_posts/'\n",
    "fname_read = '10149142-the-family-fang.json'\n",
    "filename = os.path.join(path_read,fname_read)\n",
    "print(filename)"
   ]
  },
  {
   "cell_type": "code",
   "execution_count": 3,
   "metadata": {
    "collapsed": true
   },
   "outputs": [],
   "source": [
    "with open(filename,\"r\",encoding=\"utf8\") as f:\n",
    "    df = pd.DataFrame(pd.read_json(f)).T"
   ]
  },
  {
   "cell_type": "code",
   "execution_count": 4,
   "metadata": {},
   "outputs": [
    {
     "data": {
      "text/html": [
       "<div>\n",
       "<style scoped>\n",
       "    .dataframe tbody tr th:only-of-type {\n",
       "        vertical-align: middle;\n",
       "    }\n",
       "\n",
       "    .dataframe tbody tr th {\n",
       "        vertical-align: top;\n",
       "    }\n",
       "\n",
       "    .dataframe thead th {\n",
       "        text-align: right;\n",
       "    }\n",
       "</style>\n",
       "<table border=\"1\" class=\"dataframe\">\n",
       "  <thead>\n",
       "    <tr style=\"text-align: right;\">\n",
       "      <th></th>\n",
       "      <th>delta</th>\n",
       "      <th>likes</th>\n",
       "      <th>name</th>\n",
       "      <th>raw_text</th>\n",
       "      <th>text</th>\n",
       "      <th>word_count</th>\n",
       "    </tr>\n",
       "  </thead>\n",
       "  <tbody>\n",
       "    <tr>\n",
       "      <th>1</th>\n",
       "      <td>-338</td>\n",
       "      <td>0</td>\n",
       "      <td>ehicifj.json</td>\n",
       "      <td>i had so much fun reading this book i actuall...</td>\n",
       "      <td>[fun, read, book, actually, finish, book, disn...</td>\n",
       "      <td>54</td>\n",
       "    </tr>\n",
       "    <tr>\n",
       "      <th>2</th>\n",
       "      <td>152</td>\n",
       "      <td>0</td>\n",
       "      <td>acfajgi.json</td>\n",
       "      <td>i avoided this book for the longest time beca...</td>\n",
       "      <td>[avoid, book, long, time, book, description, p...</td>\n",
       "      <td>41</td>\n",
       "    </tr>\n",
       "    <tr>\n",
       "      <th>3</th>\n",
       "      <td>444</td>\n",
       "      <td>0</td>\n",
       "      <td>fdccaeb.json</td>\n",
       "      <td>a rare contemporary novel that understands tha...</td>\n",
       "      <td>[rare, contemporary, novel, understand, call, ...</td>\n",
       "      <td>41</td>\n",
       "    </tr>\n",
       "    <tr>\n",
       "      <th>4</th>\n",
       "      <td>-195</td>\n",
       "      <td>1 like</td>\n",
       "      <td>ecaaeab.json</td>\n",
       "      <td>what an a a mazing debut compelling and one o...</td>\n",
       "      <td>[debut, compelling, kind, story, pair, perform...</td>\n",
       "      <td>60</td>\n",
       "    </tr>\n",
       "    <tr>\n",
       "      <th>5</th>\n",
       "      <td>-303</td>\n",
       "      <td>0</td>\n",
       "      <td>hebfff.json</td>\n",
       "      <td>this absolutely lives up to the hype great cha...</td>\n",
       "      <td>[absolutely, live, hype, great, character, fla...</td>\n",
       "      <td>35</td>\n",
       "    </tr>\n",
       "  </tbody>\n",
       "</table>\n",
       "</div>"
      ],
      "text/plain": [
       "  delta   likes          name  \\\n",
       "1  -338       0  ehicifj.json   \n",
       "2   152       0  acfajgi.json   \n",
       "3   444       0  fdccaeb.json   \n",
       "4  -195  1 like  ecaaeab.json   \n",
       "5  -303       0   hebfff.json   \n",
       "\n",
       "                                            raw_text  \\\n",
       "1   i had so much fun reading this book i actuall...   \n",
       "2   i avoided this book for the longest time beca...   \n",
       "3  a rare contemporary novel that understands tha...   \n",
       "4   what an a a mazing debut compelling and one o...   \n",
       "5  this absolutely lives up to the hype great cha...   \n",
       "\n",
       "                                                text word_count  \n",
       "1  [fun, read, book, actually, finish, book, disn...         54  \n",
       "2  [avoid, book, long, time, book, description, p...         41  \n",
       "3  [rare, contemporary, novel, understand, call, ...         41  \n",
       "4  [debut, compelling, kind, story, pair, perform...         60  \n",
       "5  [absolutely, live, hype, great, character, fla...         35  "
      ]
     },
     "execution_count": 4,
     "metadata": {},
     "output_type": "execute_result"
    }
   ],
   "source": [
    "df.head()"
   ]
  },
  {
   "cell_type": "code",
   "execution_count": null,
   "metadata": {
    "collapsed": true
   },
   "outputs": [],
   "source": []
  },
  {
   "cell_type": "code",
   "execution_count": 5,
   "metadata": {},
   "outputs": [
    {
     "data": {
      "text/plain": [
       "234"
      ]
     },
     "execution_count": 5,
     "metadata": {},
     "output_type": "execute_result"
    }
   ],
   "source": [
    "# minimum text length\n",
    "m_min = 100 ## minimum text length\n",
    "df = df[df['word_count']>=m_min]\n",
    "list_texts = list(df['text'])\n",
    "list_titles = list(df.index)\n",
    "len(list_texts)\n",
    "\n",
    "# list_m = [len(text) for text in list_texts]\n",
    "# N = len(list_texts)\n",
    "# x = np.sort(list_m)\n",
    "# y = (np.arange(N)+1)\n",
    "\n",
    "# plt.plot(x,N-y)\n",
    "# plt.xscale('log')\n",
    "# plt.yscale('log')\n",
    "# plt.xlabel('textlength, m')\n",
    "# plt.ylabel('# books lenth >= m')"
   ]
  },
  {
   "cell_type": "code",
   "execution_count": null,
   "metadata": {
    "collapsed": true
   },
   "outputs": [],
   "source": []
  },
  {
   "cell_type": "code",
   "execution_count": 6,
   "metadata": {
    "collapsed": true
   },
   "outputs": [],
   "source": [
    "## fitting\n",
    "model = sbmtm()\n",
    "model.make_graph(list_texts,documents = list_titles)\n",
    "model.fit(n_init=5)"
   ]
  },
  {
   "cell_type": "code",
   "execution_count": null,
   "metadata": {
    "collapsed": true
   },
   "outputs": [],
   "source": []
  },
  {
   "cell_type": "code",
   "execution_count": 16,
   "metadata": {},
   "outputs": [
    {
     "name": "stdout",
     "output_type": "stream",
     "text": [
      "1\n"
     ]
    }
   ],
   "source": [
    "## select uppermost level in the hierarchy\n",
    "L=model.L\n",
    "l = L-2\n",
    "print(l)"
   ]
  },
  {
   "cell_type": "code",
   "execution_count": 17,
   "metadata": {
    "scrolled": false
   },
   "outputs": [
    {
     "data": {
      "text/plain": [
       "{0: [('art', 0.01695891989791718),\n",
       "  ('fang', 0.01654729562855026),\n",
       "  ('parent', 0.016300321066930107),\n",
       "  ('child', 0.0158063719436898),\n",
       "  ('buster', 0.015312422820449494),\n",
       "  ('family', 0.015230097966576109),\n",
       "  ('annie', 0.014983123404955957),\n",
       "  ('performance', 0.013583600889108422),\n",
       "  ('caleb', 0.012513377788754425),\n",
       "  ('camille', 0.012184078373260887)],\n",
       " 1: [('book', 0.021671826625386997),\n",
       "  ('not', 0.01813356921716055),\n",
       "  ('read', 0.016364440513047324),\n",
       "  ('like', 0.01592215833701902),\n",
       "  ('story', 0.014816452896948253),\n",
       "  ('find', 0.013710747456877488),\n",
       "  ('think', 0.013157894736842105),\n",
       "  ('love', 0.012936753648827952),\n",
       "  ('character', 0.0127156125608138),\n",
       "  ('time', 0.011941618752764263)],\n",
       " 2: [('film', 0.037095501183898975),\n",
       "  ('hilarious', 0.0244672454617206),\n",
       "  ('wes', 0.01973164956590371),\n",
       "  ('emotionally', 0.018942383583267563),\n",
       "  ('anderson', 0.018153117600631413),\n",
       "  ('truly', 0.018153117600631413),\n",
       "  ('emotion', 0.01499605367008682),\n",
       "  ('matter', 0.01499605367008682),\n",
       "  ('worth', 0.014206787687450671),\n",
       "  ('unsuspecting', 0.013417521704814523)],\n",
       " 3: [('prop', 0.029712163416898793),\n",
       "  ('spend', 0.022284122562674095),\n",
       "  ('entire', 0.02135561745589601),\n",
       "  ('happy', 0.02042711234911792),\n",
       "  ('reality', 0.017641597028783658),\n",
       "  ('participate', 0.016713091922005572),\n",
       "  ('second', 0.016713091922005572),\n",
       "  ('case', 0.015784586815227482),\n",
       "  ('happening', 0.015784586815227482),\n",
       "  ('decision', 0.014856081708449397)],\n",
       " 4: [('reaction', 0.03992015968063872),\n",
       "  ('raise', 0.036926147704590816),\n",
       "  ('question', 0.03493013972055888),\n",
       "  ('dysfunctional', 0.03493013972055888),\n",
       "  ('premise', 0.022954091816367265),\n",
       "  ('theme', 0.021956087824351298),\n",
       "  ('mr', 0.020958083832335328),\n",
       "  ('hand', 0.01996007984031936),\n",
       "  ('explore', 0.017964071856287425),\n",
       "  ('mrs', 0.015968063872255488)],\n",
       " 5: [('’s', 0.15352697095435686),\n",
       "  ('’', 0.13278008298755187),\n",
       "  ('”', 0.12033195020746888),\n",
       "  ('“', 0.11618257261410789),\n",
       "  ('meaning', 0.05394190871369295),\n",
       "  ('–', 0.04979253112033195),\n",
       "  ('parents’', 0.04979253112033195),\n",
       "  ('tone', 0.04149377593360996),\n",
       "  ('\"', 0.04149377593360996),\n",
       "  ('restaurant', 0.03734439834024896)]}"
      ]
     },
     "execution_count": 17,
     "metadata": {},
     "output_type": "execute_result"
    }
   ],
   "source": [
    "## the topics\n",
    "model.topics(l=l)"
   ]
  },
  {
   "cell_type": "code",
   "execution_count": 18,
   "metadata": {},
   "outputs": [
    {
     "data": {
      "text/plain": [
       "<matplotlib.colorbar.Colorbar at 0x7f099350de10>"
      ]
     },
     "execution_count": 18,
     "metadata": {},
     "output_type": "execute_result"
    },
    {
     "data": {
      "image/png": "[encoded data removed]",
      "text/plain": [
       "<Figure size 432x288 with 2 Axes>"
      ]
     },
     "metadata": {
      "needs_background": "light"
     },
     "output_type": "display_data"
    }
   ],
   "source": [
    "## topic enrichment as pointwise mutual information\n",
    "pmi_td_tw = model.pmi_td_tw(l=l)\n",
    "cmap=cm.get_cmap('coolwarm')\n",
    "plt.imshow(pmi_td_tw,origin='lower',aspect='auto',vmin=-1,vmax=1,cmap=cmap)\n",
    "plt.ylabel('Cluster [doc]')\n",
    "plt.xlabel('Topic')\n",
    "plt.title('Topic-Enrichment [pmi]')\n",
    "plt.colorbar()"
   ]
  },
  {
   "cell_type": "code",
   "execution_count": null,
   "metadata": {
    "collapsed": true
   },
   "outputs": [],
   "source": []
  },
  {
   "cell_type": "code",
   "execution_count": null,
   "metadata": {
    "collapsed": true
   },
   "outputs": [],
   "source": []
  },
  {
   "cell_type": "code",
   "execution_count": 20,
   "metadata": {},
   "outputs": [
    {
     "name": "stdout",
     "output_type": "stream",
     "text": [
      "[ 0.10614482  0.0126535  -0.05877142  0.01749866 -0.04683904  0.27565849]\n"
     ]
    }
   ],
   "source": [
    "## informativeness of each topic (higher == more informative)\n",
    "p_td_tw = model.group_to_group_mixture(l=l)\n",
    "p_tw_td = p_td_tw.T\n",
    "p_td = np.sum(p_tw_td,axis=0)\n",
    "p_tw = np.sum(p_tw_td,axis=1)\n",
    "p_td_given_tw = (p_tw_td/np.sum(p_tw_td,axis=1 )[:,np.newaxis]).T\n",
    "\n",
    "H_tw = -np.nansum(p_td_given_tw*np.log(p_td_given_tw),axis=0)\n",
    "H_tw_rand = -np.nansum(p_td*np.log(p_td))\n",
    "I_tw = H_tw_rand-H_tw\n",
    "# ind_sort_tw = np.argsort(I_tw)[::-1]\n",
    "# print(I_tw[ind_sort_tw])\n",
    "print(I_tw)"
   ]
  },
  {
   "cell_type": "code",
   "execution_count": null,
   "metadata": {
    "collapsed": true
   },
   "outputs": [],
   "source": []
  }
 ],
 "metadata": {
  "kernelspec": {
   "display_name": "Python 3",
   "language": "python",
   "name": "python3"
  },
  "language_info": {
   "codemirror_mode": {
    "name": "ipython",
    "version": 3
   },
   "file_extension": ".py",
   "mimetype": "text/x-python",
   "name": "python",
   "nbconvert_exporter": "python",
   "pygments_lexer": "ipython3",
   "version": "3.6.5"
  }
 },
 "nbformat": 4,
 "nbformat_minor": 2
}
