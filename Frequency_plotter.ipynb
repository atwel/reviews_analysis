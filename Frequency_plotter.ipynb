{
 "cells": [
  {
   "cell_type": "code",
   "execution_count": 167,
   "metadata": {},
   "outputs": [],
   "source": [
    "import os,json\n",
    "import pylab as plt\n",
    "%matplotlib inline  \n",
    "from sbmtm import sbmtm\n",
    "import graph_tool.all as gt\n",
    "import collections\n",
    "\n",
    "def calculate_bin_indices(ordered_dictionary,count_docs,bins=10):\n",
    "    \n",
    "    # first we calculate the bin counts\n",
    "    min_split_count = int(count_docs/bins)\n",
    "    extras = count_docs - min_split_count*bins\n",
    "    \n",
    "    counts = [min_split_count for i in range(bins)]\n",
    "    for indx in random.sample(range(bins),extras):\n",
    "        counts[indx] += 1\n",
    "    \n",
    "    # next we figure out the indices of the docs that belong in that bin\n",
    "    bin_indices=[]\n",
    "    tracker = 0 # tracking which indice we're at\n",
    "    od_keys = list(ordered_dictionary.keys())\n",
    "    #print(od_keys)\n",
    "    #print(ordered_dictionary)\n",
    "    \n",
    "    # we start by iterating over the bin counts\n",
    "    for cnt in counts:\n",
    "        inds = []\n",
    "        count_in = 0\n",
    "        while count_in < cnt:\n",
    "            indices = ordered_dictionary[od_keys[tracker]]\n",
    "            #print(indices)\n",
    "            if count_in + len(indices) < cnt:\n",
    "                inds.extend(indices)\n",
    "                count_in += len(indices)\n",
    "                tracker+=1\n",
    "            else:\n",
    "                remaining = cnt-count_in\n",
    "                for i in range(remaining):\n",
    "                    \n",
    "                    inds.append(indices.pop(0))\n",
    "                # we don't increment tracker because we'll start with this list for the next bin\n",
    "                count_in += remaining\n",
    "            # We now have a list of document indices of length *count* and we save it\n",
    "        #print(inds)\n",
    "        bin_indices.append(inds)\n",
    "            \n",
    "    return (bin_indices, min_split_count)\n",
    "\n",
    "def order_documents(documents):\n",
    "    name_to_indx = collections.defaultdict(list)\n",
    "    for indx, doc in enumerate(model.documents):\n",
    "        splits = doc.split(\"_\")\n",
    "        delta = int(splits[0])\n",
    "        name_to_indx[delta].append(indx)\n",
    "    \n",
    "    return collections.OrderedDict(sorted(name_to_indx.items()))\n",
    "    \n",
    "    \n",
    "def calc_topic_fractions(bins,count_topics,binary=False):\n",
    "    data_frame = []\n",
    "    for bin_ in bins:\n",
    "        series = [0 for i in range(count_topics)]\n",
    "        for doc in bin_:\n",
    "            for topic, weight in model.topicdist(doc):\n",
    "                if binary:\n",
    "                    if weight != 0:\n",
    "                        series[topic] += 1\n",
    "                else:\n",
    "                    series[topic] += weight\n",
    "        \n",
    "        total = sum(series)\n",
    "        normed = [i/total for i in series]\n",
    "        #print(normed)\n",
    "        data_frame.append(normed)\n",
    "    \n",
    "    return data_frame\n",
    "    "
   ]
  },
  {
   "cell_type": "code",
   "execution_count": null,
   "metadata": {
    "scrolled": true
   },
   "outputs": [],
   "source": [
    "for directory, sub, files in os.walk(\"./book_graphs\"):\n",
    "    for file in files:\n",
    "        book = file.replace(\"_network.gt.gz\",\"\")\n",
    "        file_to_open = directory +'/'+file\n",
    "        model = sbmtm()\n",
    "        model.load_graph(file_to_open)\n",
    "        model.fit()\n",
    "        \n",
    "        order_dictionary = order_documents(model.documents)\n",
    "\n",
    "        bins,split_count = calculate_bin_indices(order_dictionary,len(model.documents))\n",
    "        count_topics = len(model.topics())\n",
    "        \n",
    "        \n",
    "        #Binary counts\n",
    "        values = calc_topic_fractions(bins,count_topics,binary=True)\n",
    "\n",
    "        plt.figure(figsize=(10,6))\n",
    "        plt.title(book)\n",
    "        plt.xlabel(\"Time --> ({} +-1 docs per bin)\".format(split_count))\n",
    "        plt.ylabel(\"Fraction\")\n",
    "        plt.plot(values)\n",
    "        plt.savefig(directory +\"/\"+book+\"_trends_binary.png\", dpi=300)\n",
    "\n",
    "        #Topic weighting version\n",
    "        plt.clf()\n",
    "        values = calc_topic_fractions(bins,count_topics)\n",
    "        plt.title(book)\n",
    "        plt.xlabel(\"Time --> ({} +-1 docs per bin)\".format(split_count))\n",
    "        plt.ylabel(\"Fraction\")\n",
    "        plt.plot(values)\n",
    "        plt.savefig(directory +\"/\"+book+\"_trends_weighted.png\", dpi=300)\n",
    "        a=t\n",
    "        "
   ]
  },
  {
   "cell_type": "code",
   "execution_count": 173,
   "metadata": {},
   "outputs": [],
   "source": [
    "file_to_open = \"./book_graphs/18498569-the-miniaturist_network.gt.gz\"\n",
    "model = sbmtm()\n",
    "model.load_graph(file_to_open)\n",
    "model.fit()"
   ]
  },
  {
   "cell_type": "code",
   "execution_count": 174,
   "metadata": {
    "scrolled": false
   },
   "outputs": [
    {
     "data": {
      "image/png": "[encoded data removed]",
      "text/plain": [
       "<Figure size 720x432 with 1 Axes>"
      ]
     },
     "metadata": {},
     "output_type": "display_data"
    }
   ],
   "source": [
    "book = file_to_open.split(\"/\")[-1].replace(\"_network.gt.gz\",\"\")\n",
    "\n",
    "\n",
    "order_dictionary = order_documents(model.documents)\n",
    "\n",
    "bins,split_count = calculate_bin_indices(order_dictionary,len(model.documents),bins=3)\n",
    "count_topics = len(model.topics())\n",
    "\n",
    "\n",
    "#Binary counts\n",
    "values = calc_topic_fractions(bins,count_topics,binary=True)\n",
    "\n",
    "plt.figure(figsize=(10,6))\n",
    "plt.title(book)\n",
    "plt.xlabel(\"Time --> ({} +-1 docs per bin)\".format(split_count))\n",
    "plt.ylabel(\"Fraction\")\n",
    "plt.plot(values)\n",
    "plt.savefig(directory +\"/\"+book+\"_trends_binary.png\", dpi=300)\n",
    "\n",
    "#Topic weighting version\n",
    "plt.clf()\n",
    "values = calc_topic_fractions(bins,count_topics)\n",
    "plt.title(book)\n",
    "plt.xlabel(\"Time --> ({} +-1 docs per bin)\".format(split_count))\n",
    "plt.ylabel(\"Fraction\")\n",
    "plt.plot(values)\n",
    "plt.savefig(directory +\"/\"+book+\"_trends_weighted.png\", dpi=300)"
   ]
  },
  {
   "cell_type": "code",
   "execution_count": 180,
   "metadata": {
    "scrolled": false
   },
   "outputs": [],
   "source": [
    "import pickle"
   ]
  },
  {
   "cell_type": "code",
   "execution_count": 181,
   "metadata": {},
   "outputs": [],
   "source": [
    "with open('tmp.pkl','wb') as f:\n",
    "    pickle.dump(model,f)"
   ]
  },
  {
   "cell_type": "code",
   "execution_count": null,
   "metadata": {},
   "outputs": [],
   "source": []
  },
  {
   "cell_type": "code",
   "execution_count": 182,
   "metadata": {},
   "outputs": [],
   "source": [
    "with open('tmp.pkl','rb') as f:\n",
    "    model_read = pickle.load(f)"
   ]
  },
  {
   "cell_type": "code",
   "execution_count": 184,
   "metadata": {},
   "outputs": [
    {
     "data": {
      "text/plain": [
       "{0: [('i', 0.20865241173545498),\n",
       "  ('this', 0.18657384385877673),\n",
       "  ('book', 0.1774241670810542),\n",
       "  ('read', 0.12501243162605669),\n",
       "  ('me', 0.09676777722526106),\n",
       "  ('really', 0.07976131277971159),\n",
       "  ('end', 0.06822476379910493),\n",
       "  ('think', 0.05758329189457981)],\n",
       " 1: [('by', 0.011669362271960488),\n",
       "  ('novel', 0.010034608093772282),\n",
       "  ('into', 0.009512878036903706),\n",
       "  ('when', 0.009217231004678179),\n",
       "  ('century', 0.008747673953496462),\n",
       "  ('which', 0.00857376393454027),\n",
       "  ('seem', 0.008399853915584076),\n",
       "  ('burton', 0.007652040834072451),\n",
       "  ('set', 0.007043355767725779),\n",
       "  ('than', 0.006973791760143302)],\n",
       " 2: [('the', 0.4802645615532323),\n",
       "  ('at', 0.18561979944527415),\n",
       "  ('find', 0.14913590783016856),\n",
       "  ('make', 0.1297205035203755),\n",
       "  (\"'\", 0.055259227650949434)],\n",
       " 3: [('not', 0.1252386677038399),\n",
       "  ('it', 0.09709355773990525),\n",
       "  ('do', 0.09574994696273248),\n",
       "  ('character', 0.08344530089809774),\n",
       "  ('so', 0.06746340428541121),\n",
       "  ('like', 0.06307899017042642),\n",
       "  ('feel', 0.05346156566013719),\n",
       "  ('my', 0.049642882398698816),\n",
       "  ('just', 0.04787497348136624),\n",
       "  ('love', 0.04497560285694081)],\n",
       " 4: [('would', 0.025959589354606682),\n",
       "  ('could', 0.020172627999738443),\n",
       "  ('write', 0.018537893153730466),\n",
       "  ('enjoy', 0.017851304518407114),\n",
       "  ('interesting', 0.015399202249395148),\n",
       "  ('want', 0.015104949977113712),\n",
       "  ('author', 0.01464722422023148),\n",
       "  ('leave', 0.014549140129471),\n",
       "  ('because', 0.014451056038710521),\n",
       "  ('too', 0.013372131040345256)],\n",
       " 5: [('have', 0.040971039182282794),\n",
       "  ('more', 0.025212947189097105),\n",
       "  ('about', 0.02444633730834753),\n",
       "  ('on', 0.023736513344690516),\n",
       "  ('what', 0.022998296422487224),\n",
       "  ('all', 0.0217206132879046),\n",
       "  ('time', 0.02169222032935832),\n",
       "  ('there', 0.020670073821692222),\n",
       "  ('very', 0.020244179443498014),\n",
       "  ('one', 0.019591141396933562)],\n",
       " 6: [('be', 0.46185147507629704),\n",
       "  ('that', 0.29277721261444556),\n",
       "  ('for', 0.24537131230925738)],\n",
       " 7: [('and', 0.516419362685478), ('to', 0.483580637314522)],\n",
       " 8: [('a', 0.22479061976549414),\n",
       "  ('of', 0.2129536571747627),\n",
       "  ('in', 0.18805136795086544),\n",
       "  ('with', 0.1378001116694584),\n",
       "  ('miniaturist', 0.11959798994974874),\n",
       "  ('as', 0.11680625348967058)],\n",
       " 9: [('star', 0.2465753424657534),\n",
       "  ('finish', 0.20403749098774332),\n",
       "  ('ending', 0.18240807498197548),\n",
       "  ('5', 0.17087238644556596),\n",
       "  ('definitely', 0.11391492429704397),\n",
       "  ('2', 0.0821917808219178)],\n",
       " 10: [('but', 0.4663167104111986),\n",
       "  ('story', 0.34820647419072615),\n",
       "  ('you', 0.18547681539807523)],\n",
       " 11: [('an', 0.31979082864038616),\n",
       "  (\"'s\", 0.2904263877715205),\n",
       "  ('from', 0.2743362831858407),\n",
       "  ('she', 0.11544650040225261)],\n",
       " 12: [('nella', 0.12469277404555137),\n",
       "  ('miniature', 0.05997050630837293),\n",
       "  ('woman', 0.05128625266262494),\n",
       "  ('family', 0.04211043748975914),\n",
       "  ('their', 0.03490086842536457),\n",
       "  ('begin', 0.03473701458299197),\n",
       "  ('own', 0.03440930689824676),\n",
       "  ('present', 0.03113223005079469),\n",
       "  ('doll', 0.030476814681304278),\n",
       "  ('otto', 0.02556119941012617)],\n",
       " 13: [('house', 0.1690046760187041),\n",
       "  ('her', 0.15731462925851702),\n",
       "  ('new', 0.12358049432197729),\n",
       "  ('year', 0.10120240480961924),\n",
       "  ('household', 0.09051436205744823),\n",
       "  ('cabinet', 0.072812291249165),\n",
       "  ('petronella', 0.06078824315297261),\n",
       "  ('city', 0.058784235136940546),\n",
       "  ('man', 0.052104208416833664),\n",
       "  ('1686', 0.04976619906479626)],\n",
       " 14: [('amsterdam', 0.23221649484536083),\n",
       "  ('who', 0.14716494845360825),\n",
       "  ('life', 0.13170103092783506),\n",
       "  ('secret', 0.10360824742268042),\n",
       "  ('marin', 0.09020618556701031),\n",
       "  ('live', 0.06778350515463917),\n",
       "  ('world', 0.05850515463917526),\n",
       "  ('mysterious', 0.05567010309278351),\n",
       "  ('dutch', 0.0404639175257732),\n",
       "  ('strange', 0.036855670103092784)],\n",
       " 15: [('husband', 0.0450172229480936),\n",
       "  ('sister', 0.040147285900938356),\n",
       "  ('old', 0.03385200142534743),\n",
       "  ('merchant', 0.033376885615868865),\n",
       "  ('home', 0.03135764342558499),\n",
       "  ('brandt', 0.031120085520845706),\n",
       "  ('marry', 0.028388169616343984),\n",
       "  ('young', 0.028388169616343984),\n",
       "  ('gift', 0.027200380092647584),\n",
       "  ('marriage', 0.02328067466444946)],\n",
       " 16: [('johanne', 0.658307210031348), ('girl', 0.34169278996865204)]}"
      ]
     },
     "execution_count": 184,
     "metadata": {},
     "output_type": "execute_result"
    }
   ],
   "source": [
    "model_read.topics()"
   ]
  },
  {
   "cell_type": "code",
   "execution_count": 170,
   "metadata": {},
   "outputs": [],
   "source": [
    "def entropy(lst):\n",
    "    return -np.nansum(lst*np.log(lst))\n",
    "    "
   ]
  },
  {
   "cell_type": "code",
   "execution_count": 171,
   "metadata": {},
   "outputs": [],
   "source": [
    "import numpy as np"
   ]
  },
  {
   "cell_type": "code",
   "execution_count": 175,
   "metadata": {},
   "outputs": [
    {
     "data": {
      "text/plain": [
       "0.01685017997430549"
      ]
     },
     "execution_count": 175,
     "metadata": {},
     "output_type": "execute_result"
    }
   ],
   "source": [
    "entropy(values[0]) - entropy(values[-1])"
   ]
  },
  {
   "cell_type": "code",
   "execution_count": 185,
   "metadata": {},
   "outputs": [],
   "source": [
    "import pandas"
   ]
  },
  {
   "cell_type": "code",
   "execution_count": 186,
   "metadata": {},
   "outputs": [],
   "source": [
    "data = {\"name\": \"blah\",\"text\": \"ten words\",\"word_count\": 10,\"delta\": 200,\"likes\": 1,\"raw_text\":\"raw_text\"}"
   ]
  },
  {
   "cell_type": "code",
   "execution_count": 187,
   "metadata": {},
   "outputs": [],
   "source": [
    "a = pandas.Series(data)"
   ]
  },
  {
   "cell_type": "code",
   "execution_count": 188,
   "metadata": {},
   "outputs": [
    {
     "data": {
      "text/plain": [
       "name               blah\n",
       "text          ten words\n",
       "word_count           10\n",
       "delta               200\n",
       "likes                 1\n",
       "raw_text       raw_text\n",
       "dtype: object"
      ]
     },
     "execution_count": 188,
     "metadata": {},
     "output_type": "execute_result"
    }
   ],
   "source": [
    "a"
   ]
  },
  {
   "cell_type": "code",
   "execution_count": null,
   "metadata": {},
   "outputs": [],
   "source": []
  }
 ],
 "metadata": {
  "kernelspec": {
   "display_name": "Python 3",
   "language": "python",
   "name": "python3"
  },
  "language_info": {
   "codemirror_mode": {
    "name": "ipython",
    "version": 3
   },
   "file_extension": ".py",
   "mimetype": "text/x-python",
   "name": "python",
   "nbconvert_exporter": "python",
   "pygments_lexer": "ipython3",
   "version": "3.6.5"
  }
 },
 "nbformat": 4,
 "nbformat_minor": 2
}
