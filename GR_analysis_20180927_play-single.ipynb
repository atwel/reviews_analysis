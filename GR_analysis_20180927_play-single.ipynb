{
 "cells": [
  {
   "cell_type": "code",
   "execution_count": 1,
   "metadata": {},
   "outputs": [
    {
     "name": "stderr",
     "output_type": "stream",
     "text": [
      "/home/martin/anaconda3/envs/graph-tool/lib/python3.6/site-packages/graph_tool/draw/cairo_draw.py:1499: RuntimeWarning: Error importing Gtk module: No module named 'gi'; GTK+ drawing will not work.\n",
      "  warnings.warn(msg, RuntimeWarning)\n"
     ]
    }
   ],
   "source": [
    "%load_ext autoreload\n",
    "%autoreload 2\n",
    "\n",
    "import os, pickle, random, sbmtm\n",
    "# import seaborn as sns; sns.set(style=\"white\", color_codes=True) # is not installed on system, just folder in this directory\n",
    "import numpy as np\n",
    "import pandas as pd\n",
    "from sbmtm import sbmtm\n",
    "import matplotlib.pyplot as plt\n",
    "\n",
    "%matplotlib inline"
   ]
  },
  {
   "cell_type": "code",
   "execution_count": null,
   "metadata": {
    "collapsed": true
   },
   "outputs": [],
   "source": []
  },
  {
   "cell_type": "code",
   "execution_count": 2,
   "metadata": {},
   "outputs": [
    {
     "name": "stdout",
     "output_type": "stream",
     "text": [
      "cleaned_posts/10149142-the-family-fang.json\n"
     ]
    }
   ],
   "source": [
    "path_read = 'cleaned_posts/'\n",
    "fname_read = '10149142-the-family-fang.json'\n",
    "filename = os.path.join(path_read,fname_read)\n",
    "print(filename)"
   ]
  },
  {
   "cell_type": "code",
   "execution_count": 3,
   "metadata": {
    "collapsed": true
   },
   "outputs": [],
   "source": [
    "with open(filename,\"r\",encoding=\"utf8\") as f:\n",
    "    df = pd.DataFrame(pd.read_json(f)).T"
   ]
  },
  {
   "cell_type": "code",
   "execution_count": 4,
   "metadata": {},
   "outputs": [
    {
     "data": {
      "text/html": [
       "<div>\n",
       "<style scoped>\n",
       "    .dataframe tbody tr th:only-of-type {\n",
       "        vertical-align: middle;\n",
       "    }\n",
       "\n",
       "    .dataframe tbody tr th {\n",
       "        vertical-align: top;\n",
       "    }\n",
       "\n",
       "    .dataframe thead th {\n",
       "        text-align: right;\n",
       "    }\n",
       "</style>\n",
       "<table border=\"1\" class=\"dataframe\">\n",
       "  <thead>\n",
       "    <tr style=\"text-align: right;\">\n",
       "      <th></th>\n",
       "      <th>delta</th>\n",
       "      <th>likes</th>\n",
       "      <th>name</th>\n",
       "      <th>raw_text</th>\n",
       "      <th>text</th>\n",
       "      <th>word_count</th>\n",
       "    </tr>\n",
       "  </thead>\n",
       "  <tbody>\n",
       "    <tr>\n",
       "      <th>1</th>\n",
       "      <td>-338</td>\n",
       "      <td>0</td>\n",
       "      <td>ehicifj.json</td>\n",
       "      <td>i had so much fun reading this book i actuall...</td>\n",
       "      <td>[fun, read, book, actually, finish, book, disn...</td>\n",
       "      <td>54</td>\n",
       "    </tr>\n",
       "    <tr>\n",
       "      <th>2</th>\n",
       "      <td>152</td>\n",
       "      <td>0</td>\n",
       "      <td>acfajgi.json</td>\n",
       "      <td>i avoided this book for the longest time beca...</td>\n",
       "      <td>[avoid, book, long, time, book, description, p...</td>\n",
       "      <td>41</td>\n",
       "    </tr>\n",
       "    <tr>\n",
       "      <th>3</th>\n",
       "      <td>444</td>\n",
       "      <td>0</td>\n",
       "      <td>fdccaeb.json</td>\n",
       "      <td>a rare contemporary novel that understands tha...</td>\n",
       "      <td>[rare, contemporary, novel, understand, call, ...</td>\n",
       "      <td>41</td>\n",
       "    </tr>\n",
       "    <tr>\n",
       "      <th>4</th>\n",
       "      <td>-195</td>\n",
       "      <td>1 like</td>\n",
       "      <td>ecaaeab.json</td>\n",
       "      <td>what an a a mazing debut compelling and one o...</td>\n",
       "      <td>[debut, compelling, kind, story, pair, perform...</td>\n",
       "      <td>60</td>\n",
       "    </tr>\n",
       "    <tr>\n",
       "      <th>5</th>\n",
       "      <td>-303</td>\n",
       "      <td>0</td>\n",
       "      <td>hebfff.json</td>\n",
       "      <td>this absolutely lives up to the hype great cha...</td>\n",
       "      <td>[absolutely, live, hype, great, character, fla...</td>\n",
       "      <td>35</td>\n",
       "    </tr>\n",
       "  </tbody>\n",
       "</table>\n",
       "</div>"
      ],
      "text/plain": [
       "  delta   likes          name  \\\n",
       "1  -338       0  ehicifj.json   \n",
       "2   152       0  acfajgi.json   \n",
       "3   444       0  fdccaeb.json   \n",
       "4  -195  1 like  ecaaeab.json   \n",
       "5  -303       0   hebfff.json   \n",
       "\n",
       "                                            raw_text  \\\n",
       "1   i had so much fun reading this book i actuall...   \n",
       "2   i avoided this book for the longest time beca...   \n",
       "3  a rare contemporary novel that understands tha...   \n",
       "4   what an a a mazing debut compelling and one o...   \n",
       "5  this absolutely lives up to the hype great cha...   \n",
       "\n",
       "                                                text word_count  \n",
       "1  [fun, read, book, actually, finish, book, disn...         54  \n",
       "2  [avoid, book, long, time, book, description, p...         41  \n",
       "3  [rare, contemporary, novel, understand, call, ...         41  \n",
       "4  [debut, compelling, kind, story, pair, perform...         60  \n",
       "5  [absolutely, live, hype, great, character, fla...         35  "
      ]
     },
     "execution_count": 4,
     "metadata": {},
     "output_type": "execute_result"
    }
   ],
   "source": [
    "df.head()"
   ]
  },
  {
   "cell_type": "code",
   "execution_count": null,
   "metadata": {
    "collapsed": true
   },
   "outputs": [],
   "source": []
  },
  {
   "cell_type": "code",
   "execution_count": 5,
   "metadata": {
    "collapsed": true
   },
   "outputs": [],
   "source": [
    "m_min = 100 ## minimum text length\n",
    "df = df[df['word_count']>=m_min]"
   ]
  },
  {
   "cell_type": "code",
   "execution_count": 6,
   "metadata": {},
   "outputs": [
    {
     "data": {
      "text/html": [
       "<div>\n",
       "<style scoped>\n",
       "    .dataframe tbody tr th:only-of-type {\n",
       "        vertical-align: middle;\n",
       "    }\n",
       "\n",
       "    .dataframe tbody tr th {\n",
       "        vertical-align: top;\n",
       "    }\n",
       "\n",
       "    .dataframe thead th {\n",
       "        text-align: right;\n",
       "    }\n",
       "</style>\n",
       "<table border=\"1\" class=\"dataframe\">\n",
       "  <thead>\n",
       "    <tr style=\"text-align: right;\">\n",
       "      <th></th>\n",
       "      <th>delta</th>\n",
       "      <th>likes</th>\n",
       "      <th>name</th>\n",
       "      <th>raw_text</th>\n",
       "      <th>text</th>\n",
       "      <th>word_count</th>\n",
       "    </tr>\n",
       "  </thead>\n",
       "  <tbody>\n",
       "    <tr>\n",
       "      <th>29</th>\n",
       "      <td>263</td>\n",
       "      <td>0</td>\n",
       "      <td>ieaedc.json</td>\n",
       "      <td>so kevin wilson writes really well simple but ...</td>\n",
       "      <td>[kevin, wilson, write, simple, lovely, prose, ...</td>\n",
       "      <td>106</td>\n",
       "    </tr>\n",
       "    <tr>\n",
       "      <th>40</th>\n",
       "      <td>-394</td>\n",
       "      <td>2 likes</td>\n",
       "      <td>ceecba.json</td>\n",
       "      <td>a friend brought me this book and two others w...</td>\n",
       "      <td>[friend, bring, book, home, work, sick, dog, r...</td>\n",
       "      <td>145</td>\n",
       "    </tr>\n",
       "    <tr>\n",
       "      <th>41</th>\n",
       "      <td>356</td>\n",
       "      <td>0</td>\n",
       "      <td>aabbgjh.json</td>\n",
       "      <td>you could look at this book as an examination...</td>\n",
       "      <td>[look, book, examination, book, mean, artist, ...</td>\n",
       "      <td>149</td>\n",
       "    </tr>\n",
       "    <tr>\n",
       "      <th>50</th>\n",
       "      <td>-249</td>\n",
       "      <td>1 like</td>\n",
       "      <td>fffcgf.json</td>\n",
       "      <td>what constitutes art for caleb and camille fan...</td>\n",
       "      <td>[constitute, art, caleb, camille, fang, involv...</td>\n",
       "      <td>149</td>\n",
       "    </tr>\n",
       "    <tr>\n",
       "      <th>53</th>\n",
       "      <td>123</td>\n",
       "      <td>0</td>\n",
       "      <td>eefgbfd.json</td>\n",
       "      <td>have you ever realised how much a person’s pe...</td>\n",
       "      <td>[realise, person, ’s, personality, affect, per...</td>\n",
       "      <td>190</td>\n",
       "    </tr>\n",
       "  </tbody>\n",
       "</table>\n",
       "</div>"
      ],
      "text/plain": [
       "   delta    likes          name  \\\n",
       "29   263        0   ieaedc.json   \n",
       "40  -394  2 likes   ceecba.json   \n",
       "41   356        0  aabbgjh.json   \n",
       "50  -249   1 like   fffcgf.json   \n",
       "53   123        0  eefgbfd.json   \n",
       "\n",
       "                                             raw_text  \\\n",
       "29  so kevin wilson writes really well simple but ...   \n",
       "40  a friend brought me this book and two others w...   \n",
       "41   you could look at this book as an examination...   \n",
       "50  what constitutes art for caleb and camille fan...   \n",
       "53   have you ever realised how much a person’s pe...   \n",
       "\n",
       "                                                 text word_count  \n",
       "29  [kevin, wilson, write, simple, lovely, prose, ...        106  \n",
       "40  [friend, bring, book, home, work, sick, dog, r...        145  \n",
       "41  [look, book, examination, book, mean, artist, ...        149  \n",
       "50  [constitute, art, caleb, camille, fang, involv...        149  \n",
       "53  [realise, person, ’s, personality, affect, per...        190  "
      ]
     },
     "execution_count": 6,
     "metadata": {},
     "output_type": "execute_result"
    }
   ],
   "source": [
    "df.head()"
   ]
  },
  {
   "cell_type": "code",
   "execution_count": 7,
   "metadata": {},
   "outputs": [
    {
     "data": {
      "text/plain": [
       "[29,\n",
       " 40,\n",
       " 41,\n",
       " 50,\n",
       " 53,\n",
       " 62,\n",
       " 77,\n",
       " 90,\n",
       " 106,\n",
       " 112,\n",
       " 122,\n",
       " 125,\n",
       " 128,\n",
       " 144,\n",
       " 149,\n",
       " 155,\n",
       " 159,\n",
       " 173,\n",
       " 174,\n",
       " 199,\n",
       " 215,\n",
       " 216,\n",
       " 231,\n",
       " 238,\n",
       " 246,\n",
       " 263,\n",
       " 264,\n",
       " 267,\n",
       " 269,\n",
       " 273,\n",
       " 279,\n",
       " 289,\n",
       " 293,\n",
       " 298,\n",
       " 299,\n",
       " 300,\n",
       " 301,\n",
       " 302,\n",
       " 313,\n",
       " 319,\n",
       " 324,\n",
       " 337,\n",
       " 341,\n",
       " 342,\n",
       " 370,\n",
       " 372,\n",
       " 378,\n",
       " 390,\n",
       " 400,\n",
       " 401,\n",
       " 403,\n",
       " 409,\n",
       " 411,\n",
       " 426,\n",
       " 436,\n",
       " 440,\n",
       " 445,\n",
       " 453,\n",
       " 476,\n",
       " 487,\n",
       " 505,\n",
       " 506,\n",
       " 509,\n",
       " 514,\n",
       " 518,\n",
       " 528,\n",
       " 534,\n",
       " 536,\n",
       " 555,\n",
       " 560,\n",
       " 562,\n",
       " 587,\n",
       " 590,\n",
       " 593,\n",
       " 594,\n",
       " 603,\n",
       " 633,\n",
       " 654,\n",
       " 658,\n",
       " 660,\n",
       " 662,\n",
       " 673,\n",
       " 683,\n",
       " 695,\n",
       " 705,\n",
       " 709,\n",
       " 719,\n",
       " 721,\n",
       " 727,\n",
       " 729,\n",
       " 730,\n",
       " 735,\n",
       " 764,\n",
       " 765,\n",
       " 767,\n",
       " 781,\n",
       " 800,\n",
       " 804,\n",
       " 816,\n",
       " 823,\n",
       " 826,\n",
       " 827,\n",
       " 863,\n",
       " 864,\n",
       " 868,\n",
       " 874,\n",
       " 877,\n",
       " 881,\n",
       " 890,\n",
       " 900,\n",
       " 908,\n",
       " 920,\n",
       " 933,\n",
       " 957,\n",
       " 963,\n",
       " 965,\n",
       " 977,\n",
       " 987,\n",
       " 992,\n",
       " 994,\n",
       " 997,\n",
       " 998,\n",
       " 1003,\n",
       " 1011,\n",
       " 1013,\n",
       " 1015,\n",
       " 1016,\n",
       " 1020,\n",
       " 1021,\n",
       " 1026,\n",
       " 1028,\n",
       " 1033,\n",
       " 1034,\n",
       " 1036,\n",
       " 1039,\n",
       " 1044,\n",
       " 1053,\n",
       " 1069,\n",
       " 1070,\n",
       " 1088,\n",
       " 1098,\n",
       " 1112,\n",
       " 1113,\n",
       " 1128,\n",
       " 1129,\n",
       " 1137,\n",
       " 1151,\n",
       " 1153,\n",
       " 1170,\n",
       " 1171,\n",
       " 1178,\n",
       " 1182,\n",
       " 1204,\n",
       " 1206,\n",
       " 1207,\n",
       " 1212,\n",
       " 1216,\n",
       " 1227,\n",
       " 1246,\n",
       " 1252,\n",
       " 1255,\n",
       " 1270,\n",
       " 1275,\n",
       " 1278,\n",
       " 1279,\n",
       " 1292,\n",
       " 1294,\n",
       " 1313,\n",
       " 1316,\n",
       " 1323,\n",
       " 1327,\n",
       " 1331,\n",
       " 1339,\n",
       " 1343,\n",
       " 1349,\n",
       " 1351,\n",
       " 1359,\n",
       " 1367,\n",
       " 1374,\n",
       " 1390,\n",
       " 1397,\n",
       " 1406,\n",
       " 1407,\n",
       " 1411,\n",
       " 1414,\n",
       " 1415,\n",
       " 1419,\n",
       " 1435,\n",
       " 1437,\n",
       " 1440,\n",
       " 1451,\n",
       " 1456,\n",
       " 1470,\n",
       " 1506,\n",
       " 1510,\n",
       " 1521,\n",
       " 1536,\n",
       " 1537,\n",
       " 1560,\n",
       " 1576,\n",
       " 1577,\n",
       " 1581,\n",
       " 1594,\n",
       " 1599,\n",
       " 1603,\n",
       " 1613,\n",
       " 1614,\n",
       " 1618,\n",
       " 1632,\n",
       " 1633,\n",
       " 1637,\n",
       " 1653,\n",
       " 1667,\n",
       " 1670,\n",
       " 1681,\n",
       " 1701,\n",
       " 1706,\n",
       " 1716,\n",
       " 1727,\n",
       " 1732,\n",
       " 1740,\n",
       " 1743,\n",
       " 1748,\n",
       " 1750,\n",
       " 1754,\n",
       " 1757,\n",
       " 1759,\n",
       " 1768,\n",
       " 1781,\n",
       " 1787,\n",
       " 1797,\n",
       " 1798,\n",
       " 1801,\n",
       " 1807]"
      ]
     },
     "execution_count": 7,
     "metadata": {},
     "output_type": "execute_result"
    }
   ],
   "source": [
    "list_texts = list(df['text'])\n",
    "list_titles = list(df.index)\n",
    "# list_titles"
   ]
  },
  {
   "cell_type": "code",
   "execution_count": 8,
   "metadata": {},
   "outputs": [
    {
     "data": {
      "text/plain": [
       "234"
      ]
     },
     "execution_count": 8,
     "metadata": {},
     "output_type": "execute_result"
    }
   ],
   "source": [
    "len(list_texts)"
   ]
  },
  {
   "cell_type": "code",
   "execution_count": 9,
   "metadata": {
    "collapsed": true
   },
   "outputs": [],
   "source": [
    "list_dt = list(df['delta'])"
   ]
  },
  {
   "cell_type": "code",
   "execution_count": 10,
   "metadata": {},
   "outputs": [
    {
     "data": {
      "text/plain": [
       "Text(0,0.5,'# books lenth >= m')"
      ]
     },
     "execution_count": 10,
     "metadata": {},
     "output_type": "execute_result"
    },
    {
     "data": {
      "image/png": "[encoded data removed]",
      "text/plain": [
       "<matplotlib.figure.Figure at 0x7ffa55b61908>"
      ]
     },
     "metadata": {},
     "output_type": "display_data"
    }
   ],
   "source": [
    "list_m = [len(text) for text in list_texts]\n",
    "N = len(list_texts)\n",
    "x = np.sort(list_m)\n",
    "y = (np.arange(N)+1)\n",
    "\n",
    "plt.plot(x,N-y)\n",
    "plt.xscale('log')\n",
    "plt.yscale('log')\n",
    "plt.xlabel('textlength, m')\n",
    "plt.ylabel('# books lenth >= m')"
   ]
  },
  {
   "cell_type": "code",
   "execution_count": null,
   "metadata": {
    "collapsed": true
   },
   "outputs": [],
   "source": []
  },
  {
   "cell_type": "code",
   "execution_count": 20,
   "metadata": {
    "collapsed": true
   },
   "outputs": [],
   "source": [
    "model = sbmtm()"
   ]
  },
  {
   "cell_type": "code",
   "execution_count": 21,
   "metadata": {
    "collapsed": true
   },
   "outputs": [],
   "source": [
    "model.make_graph(list_texts,documents = list_titles)"
   ]
  },
  {
   "cell_type": "code",
   "execution_count": 22,
   "metadata": {
    "collapsed": true
   },
   "outputs": [],
   "source": [
    "model.fit()"
   ]
  },
  {
   "cell_type": "code",
   "execution_count": 24,
   "metadata": {
    "scrolled": false
   },
   "outputs": [
    {
     "data": {
      "text/plain": [
       "{0: [('fang', 0.027470274702747027),\n",
       "  ('parent', 0.027060270602706028),\n",
       "  ('child', 0.026240262402624025),\n",
       "  ('buster', 0.025420254202542025),\n",
       "  ('family', 0.025283586169195026),\n",
       "  ('annie', 0.024873582069154025),\n",
       "  ('performance', 0.022550225502255022),\n",
       "  ('caleb', 0.02077354106874402),\n",
       "  ('camille', 0.02022686893535602),\n",
       "  ('artist', 0.020090200902009019)],\n",
       " 1: [('art', 0.016066136328185932),\n",
       "  ('book', 0.015286226797691468),\n",
       "  ('not', 0.012790516300109188),\n",
       "  ('read', 0.011542661051318048),\n",
       "  ('like', 0.011230697239120261),\n",
       "  ('story', 0.0104507877086258),\n",
       "  ('find', 0.0096708781781313369),\n",
       "  ('think', 0.0092809234128841053),\n",
       "  ('love', 0.0091249415067852137),\n",
       "  ('character', 0.0089689596006863204)],\n",
       " 2: [('strange', 0.048984468339307051),\n",
       "  ('creative', 0.022700119474313024),\n",
       "  ('worth', 0.021505376344086023),\n",
       "  ('second', 0.021505376344086023),\n",
       "  ('word', 0.021505376344086023),\n",
       "  ('beautiful', 0.020310633213859019),\n",
       "  ('pain', 0.020310633213859019),\n",
       "  ('happening', 0.020310633213859019),\n",
       "  ('hurt', 0.019115890083632018),\n",
       "  ('wait', 0.017921146953405017)],\n",
       " 3: [('kind', 0.046893317702227433),\n",
       "  ('reaction', 0.046893317702227433),\n",
       "  ('turn', 0.042203985932004688),\n",
       "  ('chapter', 0.041031652989449004),\n",
       "  ('dysfunctional', 0.041031652989449004),\n",
       "  ('question', 0.041031652989449004),\n",
       "  ('refer', 0.036342321219226259),\n",
       "  ('crazy', 0.029308323563892145),\n",
       "  ('move', 0.029308323563892145),\n",
       "  ('emotionally', 0.028135990621336461)],\n",
       " 4: [('film', 0.0545876887340302),\n",
       "  ('writing', 0.045296167247386762),\n",
       "  ('mall', 0.045296167247386762),\n",
       "  ('old', 0.032520325203252036),\n",
       "  ('page', 0.030197444831591175),\n",
       "  ('wes', 0.029036004645760744),\n",
       "  ('probably', 0.029036004645760744),\n",
       "  ('royal', 0.026713124274099883),\n",
       "  ('anderson', 0.026713124274099883),\n",
       "  ('weird', 0.026713124274099883)],\n",
       " 5: [('agree', 0.017735334242837655),\n",
       "  ('thought', 0.017735334242837655),\n",
       "  ('bear', 0.017735334242837655),\n",
       "  ('touch', 0.016371077762619372),\n",
       "  ('modern', 0.015006821282401092),\n",
       "  ('actor', 0.013642564802182811),\n",
       "  ('nicole', 0.01227830832196453),\n",
       "  ('kidman', 0.01227830832196453),\n",
       "  ('pair', 0.010914051841746248),\n",
       "  ('mischief', 0.010914051841746248)],\n",
       " 6: [('laugh', 0.046511627906976744),\n",
       "  ('humor', 0.034883720930232558),\n",
       "  ('watch', 0.025839793281653745),\n",
       "  ('human', 0.021963824289405683),\n",
       "  ('unsuspecting', 0.021963824289405683),\n",
       "  ('loud', 0.020671834625322998),\n",
       "  ('appreciate', 0.020671834625322998),\n",
       "  ('awful', 0.01937984496124031),\n",
       "  ('fully', 0.016795865633074936),\n",
       "  ('scenario', 0.015503875968992248)],\n",
       " 7: [('’s', 0.063683304647160072),\n",
       "  ('’', 0.055077452667814115),\n",
       "  ('”', 0.049913941480206538),\n",
       "  ('“', 0.048192771084337352),\n",
       "  ('mr', 0.03614457831325301),\n",
       "  ('mrs', 0.027538726333907058),\n",
       "  ('dad', 0.024096385542168676),\n",
       "  ('mom', 0.022375215146299483),\n",
       "  ('store', 0.020654044750430294),\n",
       "  ('parents’', 0.020654044750430294)]}"
      ]
     },
     "execution_count": 24,
     "metadata": {},
     "output_type": "execute_result"
    }
   ],
   "source": [
    "model.topics(l=1)"
   ]
  },
  {
   "cell_type": "code",
   "execution_count": 28,
   "metadata": {},
   "outputs": [
    {
     "data": {
      "text/plain": [
       "Text(0,0.5,'fraction of posts in doc-group')"
      ]
     },
     "execution_count": 28,
     "metadata": {},
     "output_type": "execute_result"
    },
    {
     "data": {
      "image/png": "[encoded data removed]",
      "text/plain": [
       "<matplotlib.figure.Figure at 0x7ffa5675eef0>"
      ]
     },
     "metadata": {},
     "output_type": "display_data"
    }
   ],
   "source": [
    "## group membership of doc-, and word-nodes\n",
    "p_td_d,p_tw_w = model.group_membership(l=1)\n",
    "\n",
    "D = model.get_D() ## number of documents\n",
    "B_d = len(p_td_d[:,0]) ## number of doc-groups\n",
    "B_w = len(p_tw_w[:,0]) ## number of word-groups\n",
    "\n",
    "## sort docs according to time-stamp\n",
    "indsort = np.argsort(list_dt)\n",
    "p_td_d_sort = p_td_d[:,indsort]\n",
    "\n",
    "## measure fraction of docs in each doc-group in a running window of length s\n",
    "s = int(D/10) ## running window with s posts\n",
    "arr_t_s = np.zeros((B_d,D-s))\n",
    "for i in range(D-s):\n",
    "    arr_t_s[:,i] = np.mean(p_td_d_sort[:,i:i+s],axis=1)\n",
    "\n",
    "## plot\n",
    "for t_w in range(B_d):\n",
    "    plt.plot(arr_t_s[t_w,:],label='document-group: %s'%(t_w))\n",
    "plt.legend(bbox_to_anchor=(1,1))\n",
    "\n",
    "plt.xlabel('time-index')\n",
    "plt.ylabel('fraction of posts in doc-group')"
   ]
  },
  {
   "cell_type": "code",
   "execution_count": 29,
   "metadata": {},
   "outputs": [
    {
     "name": "stdout",
     "output_type": "stream",
     "text": [
      "6\n"
     ]
    }
   ],
   "source": [
    "## fraction of tokens from doc-group td to word-group tw\n",
    "p_td_tw = model.group_to_group_mixture(l=1)\n",
    "np.shape(p_td_tw)\n",
    "plt.imshow(p_td_tw,aspect='auto')"
   ]
  },
  {
   "cell_type": "code",
   "execution_count": null,
   "metadata": {},
   "outputs": [],
   "source": []
  },
  {
   "cell_type": "code",
   "execution_count": null,
   "metadata": {},
   "outputs": [],
   "source": []
  },
  {
   "cell_type": "code",
   "execution_count": 36,
   "metadata": {},
   "outputs": [
    {
     "data": {
      "text/plain": [
       "<matplotlib.colorbar.Colorbar at 0x7ffa4be4fc88>"
      ]
     },
     "execution_count": 36,
     "metadata": {},
     "output_type": "execute_result"
    },
    {
     "data": {
      "image/png": "[encoded data removed]",
      "text/plain": [
       "<matplotlib.figure.Figure at 0x7ffa4be879e8>"
      ]
     },
     "metadata": {},
     "output_type": "display_data"
    }
   ],
   "source": [
    "## conditional probability p(tw | td)\n",
    "p_tw_cond_td = p_td_tw.T/np.sum(p_td_tw,axis=1)[np.newaxis,:]#[:,np.newaxis]\n",
    "plt.imshow(p_tw_cond_td.T,aspect='auto')\n",
    "plt.ylabel('doc-group')\n",
    "plt.xlabel('word-group')\n",
    "plt.colorbar()"
   ]
  },
  {
   "cell_type": "code",
   "execution_count": null,
   "metadata": {
    "collapsed": true
   },
   "outputs": [],
   "source": []
  },
  {
   "cell_type": "code",
   "execution_count": null,
   "metadata": {
    "collapsed": true
   },
   "outputs": [],
   "source": []
  },
  {
   "cell_type": "code",
   "execution_count": null,
   "metadata": {
    "collapsed": true
   },
   "outputs": [],
   "source": []
  },
  {
   "cell_type": "code",
   "execution_count": null,
   "metadata": {
    "collapsed": true
   },
   "outputs": [],
   "source": []
  },
  {
   "cell_type": "code",
   "execution_count": null,
   "metadata": {
    "collapsed": true
   },
   "outputs": [],
   "source": []
  },
  {
   "cell_type": "code",
   "execution_count": null,
   "metadata": {
    "collapsed": true
   },
   "outputs": [],
   "source": []
  },
  {
   "cell_type": "code",
   "execution_count": null,
   "metadata": {
    "collapsed": true
   },
   "outputs": [],
   "source": []
  },
  {
   "cell_type": "code",
   "execution_count": 37,
   "metadata": {
    "collapsed": true
   },
   "outputs": [],
   "source": [
    "## How much does each document group load on patricular topics?\n",
    "result = model.get_groups(l=1)"
   ]
  },
  {
   "cell_type": "code",
   "execution_count": 38,
   "metadata": {
    "collapsed": true
   },
   "outputs": [],
   "source": [
    "p_tw_d = result['p_tw_d']"
   ]
  },
  {
   "cell_type": "code",
   "execution_count": 39,
   "metadata": {},
   "outputs": [
    {
     "data": {
      "text/plain": [
       "<matplotlib.image.AxesImage at 0x7ffa4bdbc7f0>"
      ]
     },
     "execution_count": 39,
     "metadata": {},
     "output_type": "execute_result"
    },
    {
     "data": {
      "image/png": "[encoded data removed]",
      "text/plain": [
       "<matplotlib.figure.Figure at 0x7ffa55fee940>"
      ]
     },
     "metadata": {},
     "output_type": "display_data"
    }
   ],
   "source": [
    "plt.imshow(p_tw_d,aspect='auto')"
   ]
  },
  {
   "cell_type": "code",
   "execution_count": null,
   "metadata": {},
   "outputs": [],
   "source": [
    "\n"
   ]
  },
  {
   "cell_type": "code",
   "execution_count": null,
   "metadata": {},
   "outputs": [],
   "source": []
  },
  {
   "cell_type": "code",
   "execution_count": 40,
   "metadata": {},
   "outputs": [],
   "source": [
    "## how much each word-topic loads into each document\n",
    "D = model.get_D()\n",
    "B_w = len(p_tw_w[:,0])\n",
    "p_tw_d = np.zeros(( B_w,D ))\n",
    "for i in range(D):\n",
    "    p_tw_d[:,i] = [ h[1] for h in model.topicdist(i,l=1) ]\n",
    "    \n",
    "indsort = np.argsort(list_dt)\n",
    "p_tw_d = p_tw_d[:,indsort]\n",
    "\n",
    "# indsort = np.argsort(list_dt)\n",
    "# plt.imshow(p_td_w,aspect='auto',vmin=0,vmax=1)\n",
    "# plt.imshow(p_td_w,aspect='auto',vmin=0,vmax=1)"
   ]
  },
  {
   "cell_type": "code",
   "execution_count": 41,
   "metadata": {},
   "outputs": [
    {
     "data": {
      "text/plain": [
       "<matplotlib.legend.Legend at 0x7ffa4be6aba8>"
      ]
     },
     "execution_count": 41,
     "metadata": {},
     "output_type": "execute_result"
    },
    {
     "data": {
      "image/png": "[encoded data removed]",
      "text/plain": [
       "<matplotlib.figure.Figure at 0x7ffa4be6a400>"
      ]
     },
     "metadata": {},
     "output_type": "display_data"
    }
   ],
   "source": [
    "s = 100 ## running window with s posts\n",
    "arr_t_s = np.zeros((B_w,D-s))\n",
    "for i in range(D-s):\n",
    "    arr_t_s[:,i] = np.mean(p_tw_d[:,i:i+s],axis=1)\n",
    "\n",
    "for t_w in range(B_w):\n",
    "    plt.plot(arr_t_s[t_w,:],label='topic: %s'%(t_w+1))\n",
    "plt.legend(bbox_to_anchor=(1,1))"
   ]
  },
  {
   "cell_type": "code",
   "execution_count": null,
   "metadata": {
    "collapsed": true
   },
   "outputs": [],
   "source": []
  },
  {
   "cell_type": "code",
   "execution_count": null,
   "metadata": {
    "collapsed": true
   },
   "outputs": [],
   "source": []
  },
  {
   "cell_type": "code",
   "execution_count": null,
   "metadata": {
    "collapsed": true
   },
   "outputs": [],
   "source": []
  },
  {
   "cell_type": "code",
   "execution_count": null,
   "metadata": {
    "collapsed": true
   },
   "outputs": [],
   "source": []
  },
  {
   "cell_type": "code",
   "execution_count": null,
   "metadata": {
    "collapsed": true
   },
   "outputs": [],
   "source": []
  },
  {
   "cell_type": "code",
   "execution_count": null,
   "metadata": {},
   "outputs": [],
   "source": []
  },
  {
   "cell_type": "code",
   "execution_count": null,
   "metadata": {},
   "outputs": [],
   "source": []
  },
  {
   "cell_type": "code",
   "execution_count": null,
   "metadata": {
    "collapsed": true
   },
   "outputs": [],
   "source": []
  },
  {
   "cell_type": "code",
   "execution_count": null,
   "metadata": {
    "collapsed": true
   },
   "outputs": [],
   "source": []
  },
  {
   "cell_type": "code",
   "execution_count": null,
   "metadata": {
    "collapsed": true
   },
   "outputs": [],
   "source": []
  }
 ],
 "metadata": {
  "kernelspec": {
   "display_name": "graph-tool",
   "language": "python",
   "name": "myenv"
  },
  "language_info": {
   "codemirror_mode": {
    "name": "ipython",
    "version": 3
   },
   "file_extension": ".py",
   "mimetype": "text/x-python",
   "name": "python",
   "nbconvert_exporter": "python",
   "pygments_lexer": "ipython3",
   "version": "3.6.3"
  }
 },
 "nbformat": 4,
 "nbformat_minor": 2
}
