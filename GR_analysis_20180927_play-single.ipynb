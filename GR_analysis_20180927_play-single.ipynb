{
 "cells": [
  {
   "cell_type": "code",
   "execution_count": 1,
   "metadata": {},
   "outputs": [],
   "source": [
    "%load_ext autoreload\n",
    "%autoreload 2\n",
    "\n",
    "import os, pickle, random, sbmtm\n",
    "# import seaborn as sns; sns.set(style=\"white\", color_codes=True) # is not installed on system, just folder in this directory\n",
    "import numpy as np\n",
    "import pandas as pd\n",
    "from sbmtm import sbmtm\n",
    "import matplotlib.pyplot as plt\n",
    "\n",
    "%matplotlib inline"
   ]
  },
  {
   "cell_type": "code",
   "execution_count": null,
   "metadata": {
    "collapsed": true
   },
   "outputs": [],
   "source": []
  },
  {
   "cell_type": "code",
   "execution_count": 2,
   "metadata": {},
   "outputs": [
    {
     "name": "stdout",
     "output_type": "stream",
     "text": [
      "cleaned_posts/10149142-the-family-fang.json\n"
     ]
    }
   ],
   "source": [
    "path_read = 'cleaned_posts/'\n",
    "fname_read = '10149142-the-family-fang.json'\n",
    "filename = os.path.join(path_read,fname_read)\n",
    "print(filename)"
   ]
  },
  {
   "cell_type": "code",
   "execution_count": 3,
   "metadata": {
    "collapsed": true
   },
   "outputs": [],
   "source": [
    "with open(filename,\"r\",encoding=\"utf8\") as f:\n",
    "    df = pd.DataFrame(pd.read_json(f)).T"
   ]
  },
  {
   "cell_type": "code",
   "execution_count": 4,
   "metadata": {},
   "outputs": [
    {
     "data": {
      "text/html": [
       "<div>\n",
       "<style scoped>\n",
       "    .dataframe tbody tr th:only-of-type {\n",
       "        vertical-align: middle;\n",
       "    }\n",
       "\n",
       "    .dataframe tbody tr th {\n",
       "        vertical-align: top;\n",
       "    }\n",
       "\n",
       "    .dataframe thead th {\n",
       "        text-align: right;\n",
       "    }\n",
       "</style>\n",
       "<table border=\"1\" class=\"dataframe\">\n",
       "  <thead>\n",
       "    <tr style=\"text-align: right;\">\n",
       "      <th></th>\n",
       "      <th>delta</th>\n",
       "      <th>likes</th>\n",
       "      <th>name</th>\n",
       "      <th>raw_text</th>\n",
       "      <th>text</th>\n",
       "      <th>word_count</th>\n",
       "    </tr>\n",
       "  </thead>\n",
       "  <tbody>\n",
       "    <tr>\n",
       "      <th>1</th>\n",
       "      <td>-338</td>\n",
       "      <td>0</td>\n",
       "      <td>ehicifj.json</td>\n",
       "      <td>i had so much fun reading this book i actuall...</td>\n",
       "      <td>[fun, read, book, actually, finish, book, disn...</td>\n",
       "      <td>54</td>\n",
       "    </tr>\n",
       "    <tr>\n",
       "      <th>2</th>\n",
       "      <td>152</td>\n",
       "      <td>0</td>\n",
       "      <td>acfajgi.json</td>\n",
       "      <td>i avoided this book for the longest time beca...</td>\n",
       "      <td>[avoid, book, long, time, book, description, p...</td>\n",
       "      <td>41</td>\n",
       "    </tr>\n",
       "    <tr>\n",
       "      <th>3</th>\n",
       "      <td>444</td>\n",
       "      <td>0</td>\n",
       "      <td>fdccaeb.json</td>\n",
       "      <td>a rare contemporary novel that understands tha...</td>\n",
       "      <td>[rare, contemporary, novel, understand, call, ...</td>\n",
       "      <td>41</td>\n",
       "    </tr>\n",
       "    <tr>\n",
       "      <th>4</th>\n",
       "      <td>-195</td>\n",
       "      <td>1 like</td>\n",
       "      <td>ecaaeab.json</td>\n",
       "      <td>what an a a mazing debut compelling and one o...</td>\n",
       "      <td>[debut, compelling, kind, story, pair, perform...</td>\n",
       "      <td>60</td>\n",
       "    </tr>\n",
       "    <tr>\n",
       "      <th>5</th>\n",
       "      <td>-303</td>\n",
       "      <td>0</td>\n",
       "      <td>hebfff.json</td>\n",
       "      <td>this absolutely lives up to the hype great cha...</td>\n",
       "      <td>[absolutely, live, hype, great, character, fla...</td>\n",
       "      <td>35</td>\n",
       "    </tr>\n",
       "  </tbody>\n",
       "</table>\n",
       "</div>"
      ],
      "text/plain": [
       "  delta   likes          name  \\\n",
       "1  -338       0  ehicifj.json   \n",
       "2   152       0  acfajgi.json   \n",
       "3   444       0  fdccaeb.json   \n",
       "4  -195  1 like  ecaaeab.json   \n",
       "5  -303       0   hebfff.json   \n",
       "\n",
       "                                            raw_text  \\\n",
       "1   i had so much fun reading this book i actuall...   \n",
       "2   i avoided this book for the longest time beca...   \n",
       "3  a rare contemporary novel that understands tha...   \n",
       "4   what an a a mazing debut compelling and one o...   \n",
       "5  this absolutely lives up to the hype great cha...   \n",
       "\n",
       "                                                text word_count  \n",
       "1  [fun, read, book, actually, finish, book, disn...         54  \n",
       "2  [avoid, book, long, time, book, description, p...         41  \n",
       "3  [rare, contemporary, novel, understand, call, ...         41  \n",
       "4  [debut, compelling, kind, story, pair, perform...         60  \n",
       "5  [absolutely, live, hype, great, character, fla...         35  "
      ]
     },
     "execution_count": 4,
     "metadata": {},
     "output_type": "execute_result"
    }
   ],
   "source": [
    "df.head()"
   ]
  },
  {
   "cell_type": "code",
   "execution_count": null,
   "metadata": {
    "collapsed": true
   },
   "outputs": [],
   "source": []
  },
  {
   "cell_type": "code",
   "execution_count": 5,
   "metadata": {
    "collapsed": true
   },
   "outputs": [],
   "source": [
    "m_min = 100 ## minimum text length\n",
    "df = df[df['word_count']>=m_min]"
   ]
  },
  {
   "cell_type": "code",
   "execution_count": 6,
   "metadata": {},
   "outputs": [
    {
     "data": {
      "text/html": [
       "<div>\n",
       "<style scoped>\n",
       "    .dataframe tbody tr th:only-of-type {\n",
       "        vertical-align: middle;\n",
       "    }\n",
       "\n",
       "    .dataframe tbody tr th {\n",
       "        vertical-align: top;\n",
       "    }\n",
       "\n",
       "    .dataframe thead th {\n",
       "        text-align: right;\n",
       "    }\n",
       "</style>\n",
       "<table border=\"1\" class=\"dataframe\">\n",
       "  <thead>\n",
       "    <tr style=\"text-align: right;\">\n",
       "      <th></th>\n",
       "      <th>delta</th>\n",
       "      <th>likes</th>\n",
       "      <th>name</th>\n",
       "      <th>raw_text</th>\n",
       "      <th>text</th>\n",
       "      <th>word_count</th>\n",
       "    </tr>\n",
       "  </thead>\n",
       "  <tbody>\n",
       "    <tr>\n",
       "      <th>29</th>\n",
       "      <td>263</td>\n",
       "      <td>0</td>\n",
       "      <td>ieaedc.json</td>\n",
       "      <td>so kevin wilson writes really well simple but ...</td>\n",
       "      <td>[kevin, wilson, write, simple, lovely, prose, ...</td>\n",
       "      <td>106</td>\n",
       "    </tr>\n",
       "    <tr>\n",
       "      <th>40</th>\n",
       "      <td>-394</td>\n",
       "      <td>2 likes</td>\n",
       "      <td>ceecba.json</td>\n",
       "      <td>a friend brought me this book and two others w...</td>\n",
       "      <td>[friend, bring, book, home, work, sick, dog, r...</td>\n",
       "      <td>145</td>\n",
       "    </tr>\n",
       "    <tr>\n",
       "      <th>41</th>\n",
       "      <td>356</td>\n",
       "      <td>0</td>\n",
       "      <td>aabbgjh.json</td>\n",
       "      <td>you could look at this book as an examination...</td>\n",
       "      <td>[look, book, examination, book, mean, artist, ...</td>\n",
       "      <td>149</td>\n",
       "    </tr>\n",
       "    <tr>\n",
       "      <th>50</th>\n",
       "      <td>-249</td>\n",
       "      <td>1 like</td>\n",
       "      <td>fffcgf.json</td>\n",
       "      <td>what constitutes art for caleb and camille fan...</td>\n",
       "      <td>[constitute, art, caleb, camille, fang, involv...</td>\n",
       "      <td>149</td>\n",
       "    </tr>\n",
       "    <tr>\n",
       "      <th>53</th>\n",
       "      <td>123</td>\n",
       "      <td>0</td>\n",
       "      <td>eefgbfd.json</td>\n",
       "      <td>have you ever realised how much a person’s pe...</td>\n",
       "      <td>[realise, person, ’s, personality, affect, per...</td>\n",
       "      <td>190</td>\n",
       "    </tr>\n",
       "  </tbody>\n",
       "</table>\n",
       "</div>"
      ],
      "text/plain": [
       "   delta    likes          name  \\\n",
       "29   263        0   ieaedc.json   \n",
       "40  -394  2 likes   ceecba.json   \n",
       "41   356        0  aabbgjh.json   \n",
       "50  -249   1 like   fffcgf.json   \n",
       "53   123        0  eefgbfd.json   \n",
       "\n",
       "                                             raw_text  \\\n",
       "29  so kevin wilson writes really well simple but ...   \n",
       "40  a friend brought me this book and two others w...   \n",
       "41   you could look at this book as an examination...   \n",
       "50  what constitutes art for caleb and camille fan...   \n",
       "53   have you ever realised how much a person’s pe...   \n",
       "\n",
       "                                                 text word_count  \n",
       "29  [kevin, wilson, write, simple, lovely, prose, ...        106  \n",
       "40  [friend, bring, book, home, work, sick, dog, r...        145  \n",
       "41  [look, book, examination, book, mean, artist, ...        149  \n",
       "50  [constitute, art, caleb, camille, fang, involv...        149  \n",
       "53  [realise, person, ’s, personality, affect, per...        190  "
      ]
     },
     "execution_count": 6,
     "metadata": {},
     "output_type": "execute_result"
    }
   ],
   "source": [
    "df.head()"
   ]
  },
  {
   "cell_type": "code",
   "execution_count": 7,
   "metadata": {},
   "outputs": [],
   "source": [
    "list_texts = list(df['text'])\n",
    "list_titles = list(df.index)\n",
    "# list_titles"
   ]
  },
  {
   "cell_type": "code",
   "execution_count": 8,
   "metadata": {},
   "outputs": [
    {
     "data": {
      "text/plain": [
       "234"
      ]
     },
     "execution_count": 8,
     "metadata": {},
     "output_type": "execute_result"
    }
   ],
   "source": [
    "len(list_texts)"
   ]
  },
  {
   "cell_type": "code",
   "execution_count": 9,
   "metadata": {
    "collapsed": true
   },
   "outputs": [],
   "source": [
    "list_dt = list(df['delta'])"
   ]
  },
  {
   "cell_type": "code",
   "execution_count": 10,
   "metadata": {},
   "outputs": [
    {
     "data": {
      "text/plain": [
       "Text(0,0.5,'# books lenth >= m')"
      ]
     },
     "execution_count": 10,
     "metadata": {},
     "output_type": "execute_result"
    },
    {
     "data": {
      "image/png": "[encoded data removed]",
      "text/plain": [
       "<Figure size 432x288 with 1 Axes>"
      ]
     },
     "metadata": {},
     "output_type": "display_data"
    }
   ],
   "source": [
    "list_m = [len(text) for text in list_texts]\n",
    "N = len(list_texts)\n",
    "x = np.sort(list_m)\n",
    "y = (np.arange(N)+1)\n",
    "\n",
    "plt.plot(x,N-y)\n",
    "plt.xscale('log')\n",
    "plt.yscale('log')\n",
    "plt.xlabel('textlength, m')\n",
    "plt.ylabel('# books lenth >= m')"
   ]
  },
  {
   "cell_type": "code",
   "execution_count": null,
   "metadata": {
    "collapsed": true
   },
   "outputs": [],
   "source": []
  },
  {
   "cell_type": "code",
   "execution_count": 11,
   "metadata": {
    "collapsed": true
   },
   "outputs": [],
   "source": [
    "model = sbmtm()"
   ]
  },
  {
   "cell_type": "code",
   "execution_count": 12,
   "metadata": {
    "collapsed": true
   },
   "outputs": [],
   "source": [
    "model.make_graph(list_texts,documents = list_titles)"
   ]
  },
  {
   "cell_type": "code",
   "execution_count": 13,
   "metadata": {
    "collapsed": true
   },
   "outputs": [],
   "source": [
    "model.fit()"
   ]
  },
  {
   "cell_type": "code",
   "execution_count": 14,
   "metadata": {
    "scrolled": false
   },
   "outputs": [
    {
     "data": {
      "text/plain": [
       "{0: [('performance', 0.054835493519441676),\n",
       "  ('caleb', 0.05051512130275839),\n",
       "  ('camille', 0.04918577600531738),\n",
       "  ('artist', 0.04885343968095713),\n",
       "  ('wilson', 0.03589232303090728),\n",
       "  ('novel', 0.03290129611166501),\n",
       "  ('people', 0.02991026919242273),\n",
       "  ('kevin', 0.02193419740777667),\n",
       "  ('great', 0.020937188434695914),\n",
       "  ('event', 0.01694915254237288)],\n",
       " 1: [('not', 0.015850004832318545),\n",
       "  ('like', 0.013917077413743114),\n",
       "  ('love', 0.01130762539866628),\n",
       "  ('time', 0.010437808060307335),\n",
       "  ('way', 0.010341161689378564),\n",
       "  ('end', 0.00947134435101962),\n",
       "  ('good', 0.008988112496375761),\n",
       "  ('feel', 0.00889146612544699),\n",
       "  ('know', 0.008504880641731903),\n",
       "  ('go', 0.007925002416159272)],\n",
       " 2: [('art', 0.02303735182285842),\n",
       "  ('fang', 0.02247819279803176),\n",
       "  ('parent', 0.022142697383135762),\n",
       "  ('book', 0.021919033773205098),\n",
       "  ('child', 0.02147170655334377),\n",
       "  ('buster', 0.02080071572355178),\n",
       "  ('family', 0.020688883918586445),\n",
       "  ('annie', 0.02035338850369045),\n",
       "  ('read', 0.016551107134869156),\n",
       "  ('story', 0.014985461865354507)],\n",
       " 3: [('turn', 0.03498542274052478),\n",
       "  ('laugh', 0.03498542274052478),\n",
       "  ('chapter', 0.034013605442176874),\n",
       "  ('pick', 0.027210884353741496),\n",
       "  ('page', 0.025267249757045675),\n",
       "  ('wes', 0.024295432458697766),\n",
       "  ('emotionally', 0.023323615160349854),\n",
       "  ('mystery', 0.023323615160349854),\n",
       "  ('anderson', 0.022351797862001945),\n",
       "  ('2', 0.021379980563654033)],\n",
       " 4: [('project', 0.016540317022742935),\n",
       "  ('young', 0.015851137146795313),\n",
       "  ('happy', 0.015161957270847692),\n",
       "  ('stag', 0.013094417643004824),\n",
       "  ('second', 0.012405237767057202),\n",
       "  ('happening', 0.01171605789110958),\n",
       "  ('dad', 0.009648518263266712),\n",
       "  ('age', 0.009648518263266712),\n",
       "  ('mind', 0.00895933838731909),\n",
       "  ('mom', 0.00895933838731909)]}"
      ]
     },
     "execution_count": 14,
     "metadata": {},
     "output_type": "execute_result"
    }
   ],
   "source": [
    "model.topics(l=1)"
   ]
  },
  {
   "cell_type": "code",
   "execution_count": 15,
   "metadata": {},
   "outputs": [
    {
     "data": {
      "text/plain": [
       "Text(0,0.5,'fraction of posts in doc-group')"
      ]
     },
     "execution_count": 15,
     "metadata": {},
     "output_type": "execute_result"
    },
    {
     "data": {
      "image/png": "[encoded data removed]",
      "text/plain": [
       "<Figure size 432x288 with 1 Axes>"
      ]
     },
     "metadata": {},
     "output_type": "display_data"
    }
   ],
   "source": [
    "## group membership of doc-, and word-nodes\n",
    "p_td_d,p_tw_w = model.group_membership(l=1)\n",
    "\n",
    "D = model.get_D() ## number of documents\n",
    "B_d = len(p_td_d[:,0]) ## number of doc-groups\n",
    "B_w = len(p_tw_w[:,0]) ## number of word-groups\n",
    "\n",
    "## sort docs according to time-stamp\n",
    "indsort = np.argsort(list_dt)\n",
    "p_td_d_sort = p_td_d[:,indsort]\n",
    "\n",
    "## measure fraction of docs in each doc-group in a running window of length s\n",
    "s = int(D/10) ## running window with s posts\n",
    "arr_t_s = np.zeros((B_d,D-s))\n",
    "for i in range(D-s):\n",
    "    arr_t_s[:,i] = np.mean(p_td_d_sort[:,i:i+s],axis=1)\n",
    "\n",
    "## plot\n",
    "for t_w in range(B_d):\n",
    "    plt.plot(arr_t_s[t_w,:],label='document-group: %s'%(t_w))\n",
    "plt.legend(bbox_to_anchor=(1,1))\n",
    "\n",
    "plt.xlabel('time-index')\n",
    "plt.ylabel('fraction of posts in doc-group')"
   ]
  },
  {
   "cell_type": "code",
   "execution_count": 16,
   "metadata": {},
   "outputs": [
    {
     "data": {
      "text/plain": [
       "Text(0.5,0,'word-group')"
      ]
     },
     "execution_count": 16,
     "metadata": {},
     "output_type": "execute_result"
    },
    {
     "data": {
      "image/png": "[encoded data removed]",
      "text/plain": [
       "<Figure size 432x288 with 1 Axes>"
      ]
     },
     "metadata": {},
     "output_type": "display_data"
    }
   ],
   "source": [
    "## fraction of tokens from doc-group td to word-group tw\n",
    "p_td_tw = model.group_to_group_mixture(l=1,norm = True)\n",
    "np.shape(p_td_tw)\n",
    "plt.imshow(p_td_tw,aspect='auto')\n",
    "plt.ylabel('doc-group')\n",
    "plt.xlabel('word-group')"
   ]
  },
  {
   "cell_type": "code",
   "execution_count": 28,
   "metadata": {
    "collapsed": true
   },
   "outputs": [],
   "source": [
    "n_td_tw = model.group_to_group_mixture(l=1,norm = False)"
   ]
  },
  {
   "cell_type": "code",
   "execution_count": 30,
   "metadata": {},
   "outputs": [
    {
     "name": "stdout",
     "output_type": "stream",
     "text": [
      "[17285.  3736.  3757.] [ 3009. 10347.  8942.  1029.  1451.]\n"
     ]
    }
   ],
   "source": [
    "n_td = np.sum(n_td_tw,axis=1)\n",
    "n_tw = np.sum(n_td_tw,axis=0)\n",
    "print(n_td,n_tw)"
   ]
  },
  {
   "cell_type": "code",
   "execution_count": 17,
   "metadata": {},
   "outputs": [
    {
     "data": {
      "text/plain": [
       "<matplotlib.colorbar.Colorbar at 0x7f0c35a70f60>"
      ]
     },
     "execution_count": 17,
     "metadata": {},
     "output_type": "execute_result"
    },
    {
     "data": {
      "image/png": "[encoded data removed]",
      "text/plain": [
       "<Figure size 432x288 with 2 Axes>"
      ]
     },
     "metadata": {},
     "output_type": "display_data"
    }
   ],
   "source": [
    "## conditional probability p(tw | td)\n",
    "p_tw_cond_td = p_td_tw.T/np.sum(p_td_tw,axis=1)[np.newaxis,:]#[:,np.newaxis]\n",
    "plt.imshow(p_tw_cond_td.T,aspect='auto')\n",
    "# plt.imshow(np.log(p_tw_cond_td.T),aspect='auto')\n",
    "\n",
    "plt.ylabel('doc-group')\n",
    "plt.xlabel('word-group')\n",
    "plt.colorbar()"
   ]
  },
  {
   "cell_type": "code",
   "execution_count": 18,
   "metadata": {},
   "outputs": [
    {
     "data": {
      "text/plain": [
       "<matplotlib.colorbar.Colorbar at 0x7f0c35835fd0>"
      ]
     },
     "execution_count": 18,
     "metadata": {},
     "output_type": "execute_result"
    },
    {
     "data": {
      "image/png": "[encoded data removed]",
      "text/plain": [
       "<Figure size 432x288 with 2 Axes>"
      ]
     },
     "metadata": {},
     "output_type": "display_data"
    }
   ],
   "source": [
    "## conditional probability p(td | tw)\n",
    "p_td_cond_tw = p_td_tw/np.sum(p_td_tw,axis=0)[np.newaxis,:]#[:,np.newaxis]\n",
    "plt.imshow(p_td_cond_tw,aspect='auto')\n",
    "# plt.imshow(np.log(p_tw_cond_td.T),aspect='auto')\n",
    "\n",
    "plt.ylabel('doc-group')\n",
    "plt.xlabel('word-group')\n",
    "plt.colorbar()"
   ]
  },
  {
   "cell_type": "markdown",
   "metadata": {},
   "source": [
    "## How informative is each topic?\n",
    "\n",
    "We calculate $p(t_d,t_w)$ as the fraction of word tokens that are in doc-group $t_d$ and word-group $t_w$.\n",
    "\n",
    "Then, we want to know for each word-topic $t_w$ how uneven it 'loads' into the doc-groups. Therefore we calculate \n",
    "\n",
    "$p(t_d | t_w) = \\frac{p(t_d , t_w)}{p(t_w)}$;\n",
    "\n",
    "which says: given we found a word token belonging to word-group $t_w$, how likely is it that it belongs to doc-group $t_d$?\n",
    "\n",
    "For for each $t_w$, we can then calculate how uneven this distribution is (smaller H = more uneven):\n",
    "\n",
    "$H(t_w) = -\\sum_{t_d} p(t_d | t_w) \\log p(t_d | t_w)$.\n",
    "\n",
    "\n",
    "Now it is crucial to compare this number with what we would expect from chance ($t_d$ and $t_w$ are independent from each other, denoted with $\\tilde{x}$):\n",
    "\n",
    "$\\tilde{p}(t_d | t_w) = \\frac{\\tilde{p}(t_d , t_w)}{\\tilde{p}(t_w)} = \\frac{\\tilde{p}(t_d)\\tilde{p}(t_w)}{\\tilde{p}(t_w)} = \\tilde{p}(t_d) = p(t_d)$.\n",
    "\n",
    "Thus\n",
    "\n",
    "$\\tilde{H}(t_w) = -\\sum_{t_d} p(t_d ) \\log p(t_d )$ which is the same for all $t_w$.\n",
    "\n",
    "Now we look at \n",
    "\n",
    "$\\delta H (t_w) = \\tilde{H} - H(t_w)$\n",
    "\n",
    "and the larger the value of $\\delta H$, the more informative the topic $t_w$ (since the random entropy is always larger than the non-random entropy)\n"
   ]
  },
  {
   "cell_type": "code",
   "execution_count": 32,
   "metadata": {},
   "outputs": [
    {
     "data": {
      "text/plain": [
       "Text(0,0.5,'$\\\\delta H (t_w)$')"
      ]
     },
     "execution_count": 32,
     "metadata": {},
     "output_type": "execute_result"
    },
    {
     "data": {
      "image/png": "[encoded data removed]",
      "text/plain": [
       "<Figure size 432x288 with 1 Axes>"
      ]
     },
     "metadata": {},
     "output_type": "display_data"
    }
   ],
   "source": [
    "\n",
    "H_ = -np.nansum(p_td_tw*np.log(p_td_tw),axis=0)\n",
    "p_td = np.sum(p_td_tw,axis=0)\n",
    "H_rand_ = -np.nansum(p_td*np.log(p_td))\n",
    "# plt.plot(H_)\n",
    "plt.plot(H_rand_-H_) ## high is better\n",
    "plt.xlabel('topic t_w')\n",
    "plt.ylabel(r'$\\delta H (t_w)$')"
   ]
  },
  {
   "cell_type": "markdown",
   "metadata": {
    "collapsed": true
   },
   "source": [
    "In this example, it seems that topic 3 and 4 are the most informative; while topic 1 and 2 are the least informative. Topic 0 is in between.\n",
    "\n",
    "Looking at the individual topics this seems to make sense (above).\n",
    "\n",
    "The tricky thing will be to select a cutoff. But one could take the n most informative topics."
   ]
  },
  {
   "cell_type": "code",
   "execution_count": null,
   "metadata": {
    "collapsed": true
   },
   "outputs": [],
   "source": []
  },
  {
   "cell_type": "code",
   "execution_count": null,
   "metadata": {
    "collapsed": true
   },
   "outputs": [],
   "source": []
  },
  {
   "cell_type": "code",
   "execution_count": null,
   "metadata": {
    "collapsed": true
   },
   "outputs": [],
   "source": []
  },
  {
   "cell_type": "code",
   "execution_count": null,
   "metadata": {
    "collapsed": true
   },
   "outputs": [],
   "source": []
  },
  {
   "cell_type": "code",
   "execution_count": 23,
   "metadata": {
    "collapsed": true
   },
   "outputs": [],
   "source": [
    "## How much does each document group load on patricular topics?\n",
    "result = model.get_groups(l=1)"
   ]
  },
  {
   "cell_type": "code",
   "execution_count": 24,
   "metadata": {
    "collapsed": true
   },
   "outputs": [],
   "source": [
    "p_tw_d = result['p_tw_d']"
   ]
  },
  {
   "cell_type": "code",
   "execution_count": 25,
   "metadata": {},
   "outputs": [
    {
     "data": {
      "text/plain": [
       "<matplotlib.image.AxesImage at 0x7f0c3549f2b0>"
      ]
     },
     "execution_count": 25,
     "metadata": {},
     "output_type": "execute_result"
    },
    {
     "data": {
      "image/png": "[encoded data removed]",
      "text/plain": [
       "<Figure size 432x288 with 1 Axes>"
      ]
     },
     "metadata": {},
     "output_type": "display_data"
    }
   ],
   "source": [
    "plt.imshow(p_tw_d,aspect='auto')"
   ]
  },
  {
   "cell_type": "code",
   "execution_count": null,
   "metadata": {
    "collapsed": true
   },
   "outputs": [],
   "source": [
    "\n"
   ]
  },
  {
   "cell_type": "code",
   "execution_count": null,
   "metadata": {
    "collapsed": true
   },
   "outputs": [],
   "source": []
  },
  {
   "cell_type": "code",
   "execution_count": 26,
   "metadata": {
    "collapsed": true
   },
   "outputs": [],
   "source": [
    "## how much each word-topic loads into each document\n",
    "D = model.get_D()\n",
    "B_w = len(p_tw_w[:,0])\n",
    "p_tw_d = np.zeros(( B_w,D ))\n",
    "for i in range(D):\n",
    "    p_tw_d[:,i] = [ h[1] for h in model.topicdist(i,l=1) ]\n",
    "    \n",
    "indsort = np.argsort(list_dt)\n",
    "p_tw_d = p_tw_d[:,indsort]\n",
    "\n",
    "# indsort = np.argsort(list_dt)\n",
    "# plt.imshow(p_td_w,aspect='auto',vmin=0,vmax=1)\n",
    "# plt.imshow(p_td_w,aspect='auto',vmin=0,vmax=1)"
   ]
  },
  {
   "cell_type": "code",
   "execution_count": 27,
   "metadata": {},
   "outputs": [
    {
     "data": {
      "text/plain": [
       "<matplotlib.legend.Legend at 0x7f0c354c8d30>"
      ]
     },
     "execution_count": 27,
     "metadata": {},
     "output_type": "execute_result"
    },
    {
     "data": {
      "image/png": "[encoded data removed]",
      "text/plain": [
       "<Figure size 432x288 with 1 Axes>"
      ]
     },
     "metadata": {},
     "output_type": "display_data"
    }
   ],
   "source": [
    "s = 100 ## running window with s posts\n",
    "arr_t_s = np.zeros((B_w,D-s))\n",
    "for i in range(D-s):\n",
    "    arr_t_s[:,i] = np.mean(p_tw_d[:,i:i+s],axis=1)\n",
    "\n",
    "for t_w in range(B_w):\n",
    "    plt.plot(arr_t_s[t_w,:],label='topic: %s'%(t_w+1))\n",
    "plt.legend(bbox_to_anchor=(1,1))"
   ]
  },
  {
   "cell_type": "code",
   "execution_count": null,
   "metadata": {
    "collapsed": true
   },
   "outputs": [],
   "source": []
  },
  {
   "cell_type": "code",
   "execution_count": null,
   "metadata": {
    "collapsed": true
   },
   "outputs": [],
   "source": []
  },
  {
   "cell_type": "code",
   "execution_count": null,
   "metadata": {
    "collapsed": true
   },
   "outputs": [],
   "source": []
  },
  {
   "cell_type": "code",
   "execution_count": null,
   "metadata": {
    "collapsed": true
   },
   "outputs": [],
   "source": []
  },
  {
   "cell_type": "code",
   "execution_count": null,
   "metadata": {
    "collapsed": true
   },
   "outputs": [],
   "source": []
  },
  {
   "cell_type": "code",
   "execution_count": null,
   "metadata": {
    "collapsed": true
   },
   "outputs": [],
   "source": []
  },
  {
   "cell_type": "code",
   "execution_count": null,
   "metadata": {
    "collapsed": true
   },
   "outputs": [],
   "source": []
  },
  {
   "cell_type": "code",
   "execution_count": null,
   "metadata": {
    "collapsed": true
   },
   "outputs": [],
   "source": []
  },
  {
   "cell_type": "code",
   "execution_count": null,
   "metadata": {
    "collapsed": true
   },
   "outputs": [],
   "source": []
  },
  {
   "cell_type": "code",
   "execution_count": null,
   "metadata": {
    "collapsed": true
   },
   "outputs": [],
   "source": []
  }
 ],
 "metadata": {
  "kernelspec": {
   "display_name": "gt-test",
   "language": "python",
   "name": "gt-test"
  },
  "language_info": {
   "codemirror_mode": {
    "name": "ipython",
    "version": 3
   },
   "file_extension": ".py",
   "mimetype": "text/x-python",
   "name": "python",
   "nbconvert_exporter": "python",
   "pygments_lexer": "ipython3",
   "version": "3.6.5"
  }
 },
 "nbformat": 4,
 "nbformat_minor": 2
}
